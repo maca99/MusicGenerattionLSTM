{
 "cells": [
  {
   "cell_type": "markdown",
   "id": "57794663",
   "metadata": {},
   "source": [
    "## Preprocessing MIDI Files"
   ]
  },
  {
   "cell_type": "code",
   "execution_count": 4,
   "id": "9c511f61",
   "metadata": {},
   "outputs": [],
   "source": [
    "import collections\n",
    "import glob\n",
    "import pathlib\n",
    "import pretty_midi\n",
    "import pandas as pd\n",
    "import numpy as np\n",
    "import tensorflow as tf\n",
    "from typing import Optional\n",
    "from matplotlib import pyplot as plt"
   ]
  },
  {
   "cell_type": "code",
   "execution_count": 5,
   "id": "77eb2f30",
   "metadata": {},
   "outputs": [
    {
     "name": "stdout",
     "output_type": "stream",
     "text": [
      "Number of files Maestro: 1282\n",
      "Number of files POP: 50\n"
     ]
    }
   ],
   "source": [
    "data_dir_c = pathlib.Path(r'../maestro-v2.0.0')\n",
    "data_dir_p = pathlib.Path(r'../midi_dataset_pop')\n",
    "\n",
    "filenames_c = glob.glob(str(data_dir_c/'**/*.mid*'))\n",
    "filenames_p = glob.glob(str(data_dir_p/'**/*.mid*'))\n",
    "\n",
    "print('Number of files Maestro:', len(filenames_c))\n",
    "print('Number of files POP:', len(filenames_p))"
   ]
  },
  {
   "cell_type": "code",
   "execution_count": 6,
   "id": "00bc628d",
   "metadata": {},
   "outputs": [
    {
     "name": "stdout",
     "output_type": "stream",
     "text": [
      "..\\maestro-v2.0.0\\2004\\MIDI-Unprocessed_SMF_16_R1_2004_01-08_ORIG_MID--AUDIO_16_R1_2004_05_Track05_wav.midi\n",
      "Number of instruments: 1\n",
      "Instrument name: Acoustic Grand Piano\n",
      "0: pitch=59, note_name=B3, duration=1.1927\n",
      "1: pitch=44, note_name=G#2, duration=0.2188\n",
      "2: pitch=51, note_name=D#3, duration=0.2667\n",
      "3: pitch=63, note_name=D#4, duration=0.7646\n",
      "4: pitch=56, note_name=G#3, duration=0.0396\n",
      "5: pitch=68, note_name=G#4, duration=0.7937\n",
      "6: pitch=64, note_name=E4, duration=0.8771\n",
      "7: pitch=63, note_name=D#4, duration=0.1792\n",
      "8: pitch=56, note_name=G#3, duration=0.1896\n",
      "9: pitch=59, note_name=B3, duration=0.0646\n"
     ]
    }
   ],
   "source": [
    "# analyzing and working with a sample file\n",
    "\n",
    "sample_file_c = filenames_c[25]\n",
    "sample_file_p = filenames_p[25]\n",
    "print(sample_file_c)\n",
    "\n",
    "pm = pretty_midi.PrettyMIDI(sample_file_c)\n",
    "\n",
    "print('Number of instruments:', len(pm.instruments))\n",
    "instrument = pm.instruments[0]\n",
    "instrument_name = pretty_midi.program_to_instrument_name(instrument.program)\n",
    "print('Instrument name:', instrument_name)\n",
    "\n",
    "# Extracting the notes\n",
    "for i, note in enumerate(instrument.notes[:10]):\n",
    "    note_name = pretty_midi.note_number_to_name(note.pitch)\n",
    "    duration = note.end - note.start\n",
    "    print(f'{i}: pitch={note.pitch}, note_name={note_name}, duration={duration:.4f}')"
   ]
  },
  {
   "cell_type": "code",
   "execution_count": 7,
   "id": "75dba2f7",
   "metadata": {},
   "outputs": [
    {
     "data": {
      "text/html": [
       "<div>\n",
       "<style scoped>\n",
       "    .dataframe tbody tr th:only-of-type {\n",
       "        vertical-align: middle;\n",
       "    }\n",
       "\n",
       "    .dataframe tbody tr th {\n",
       "        vertical-align: top;\n",
       "    }\n",
       "\n",
       "    .dataframe thead th {\n",
       "        text-align: right;\n",
       "    }\n",
       "</style>\n",
       "<table border=\"1\" class=\"dataframe\">\n",
       "  <thead>\n",
       "    <tr style=\"text-align: right;\">\n",
       "      <th></th>\n",
       "      <th>pitch</th>\n",
       "      <th>start</th>\n",
       "      <th>end</th>\n",
       "      <th>step</th>\n",
       "      <th>duration</th>\n",
       "    </tr>\n",
       "  </thead>\n",
       "  <tbody>\n",
       "    <tr>\n",
       "      <th>0</th>\n",
       "      <td>59</td>\n",
       "      <td>1.040625</td>\n",
       "      <td>2.233333</td>\n",
       "      <td>0.000000</td>\n",
       "      <td>1.192708</td>\n",
       "    </tr>\n",
       "    <tr>\n",
       "      <th>1</th>\n",
       "      <td>68</td>\n",
       "      <td>1.702083</td>\n",
       "      <td>2.495833</td>\n",
       "      <td>0.661458</td>\n",
       "      <td>0.793750</td>\n",
       "    </tr>\n",
       "    <tr>\n",
       "      <th>2</th>\n",
       "      <td>63</td>\n",
       "      <td>1.711458</td>\n",
       "      <td>2.476042</td>\n",
       "      <td>0.009375</td>\n",
       "      <td>0.764583</td>\n",
       "    </tr>\n",
       "    <tr>\n",
       "      <th>3</th>\n",
       "      <td>44</td>\n",
       "      <td>2.111458</td>\n",
       "      <td>2.330208</td>\n",
       "      <td>0.400000</td>\n",
       "      <td>0.218750</td>\n",
       "    </tr>\n",
       "    <tr>\n",
       "      <th>4</th>\n",
       "      <td>51</td>\n",
       "      <td>2.130208</td>\n",
       "      <td>2.396875</td>\n",
       "      <td>0.018750</td>\n",
       "      <td>0.266667</td>\n",
       "    </tr>\n",
       "  </tbody>\n",
       "</table>\n",
       "</div>"
      ],
      "text/plain": [
       "   pitch     start       end      step  duration\n",
       "0     59  1.040625  2.233333  0.000000  1.192708\n",
       "1     68  1.702083  2.495833  0.661458  0.793750\n",
       "2     63  1.711458  2.476042  0.009375  0.764583\n",
       "3     44  2.111458  2.330208  0.400000  0.218750\n",
       "4     51  2.130208  2.396875  0.018750  0.266667"
      ]
     },
     "execution_count": 7,
     "metadata": {},
     "output_type": "execute_result"
    }
   ],
   "source": [
    "# Extracting the notes from the sample MIDI file\n",
    "\n",
    "def midi_to_notes(midi_file: str) -> pd.DataFrame:\n",
    "    pm = pretty_midi.PrettyMIDI(midi_file)\n",
    "    instrument = pm.instruments[0]\n",
    "    notes = collections.defaultdict(list)\n",
    "\n",
    "    # Sort the notes by start time\n",
    "    sorted_notes = sorted(instrument.notes, key=lambda note: note.start)\n",
    "    prev_start = sorted_notes[0].start\n",
    "\n",
    "    for note in sorted_notes:\n",
    "        start = note.start\n",
    "        end = note.end\n",
    "        notes['pitch'].append(note.pitch)\n",
    "        notes['start'].append(start)\n",
    "        notes['end'].append(end)\n",
    "        notes['step'].append(start - prev_start)\n",
    "        notes['duration'].append(end - start)\n",
    "        prev_start = start\n",
    "    return pd.DataFrame({name: np.array(value) for name, value in notes.items()})\n",
    "\n",
    "raw_notes = midi_to_notes(sample_file_c)\n",
    "raw_notes.head()"
   ]
  },
  {
   "cell_type": "code",
   "execution_count": 8,
   "id": "5783fe15",
   "metadata": {},
   "outputs": [
    {
     "name": "stdout",
     "output_type": "stream",
     "text": [
      "['B3' 'G#4' 'D#4' 'G#2' 'D#3' 'G#3' 'E4' 'G#4' 'B4' 'D#4']\n"
     ]
    },
    {
     "data": {
      "image/png": "[encoded data removed]",
      "text/plain": [
       "<Figure size 2000x400 with 1 Axes>"
      ]
     },
     "metadata": {},
     "output_type": "display_data"
    }
   ],
   "source": [
    "# Converting to note names by considering the respective pitch values\n",
    "\n",
    "get_note_names = np.vectorize(pretty_midi.note_number_to_name)\n",
    "sample_note_names = get_note_names(raw_notes['pitch'])\n",
    "print(sample_note_names[:10])\n",
    "\n",
    "# Visualizing the paramaters of the muscial notes of the piano\n",
    "\n",
    "def plot_piano_roll(notes: pd.DataFrame, count: Optional[int] = None):\n",
    "    if count:\n",
    "        title = f'First {count} notes'\n",
    "    else:\n",
    "        title = f'Whole track'\n",
    "        count = len(notes['pitch'])\n",
    "        \n",
    "        plt.figure(figsize=(20, 4))\n",
    "        plot_pitch = np.stack([notes['pitch'], notes['pitch']], axis=0)\n",
    "        plot_start_stop = np.stack([notes['start'], notes['end']], axis=0)\n",
    "        \n",
    "        plt.plot(plot_start_stop[:, :count], plot_pitch[:, :count], color=\"b\", marker=\".\")\n",
    "        plt.xlabel('Time [s]')\n",
    "        plt.ylabel('Pitch')\n",
    "        _ = plt.title(title)\n",
    "\n",
    "plot_piano_roll(raw_notes) \n",
    "plt.show()"
   ]
  },
  {
   "cell_type": "code",
   "execution_count": 9,
   "id": "d291234e",
   "metadata": {},
   "outputs": [
    {
     "data": {
      "text/plain": [
       "array([[0., 0., 0., ..., 0., 0., 0.],\n",
       "       [0., 0., 0., ..., 0., 0., 0.],\n",
       "       [0., 0., 0., ..., 0., 0., 0.],\n",
       "       ...,\n",
       "       [0., 0., 0., ..., 0., 0., 0.],\n",
       "       [0., 0., 0., ..., 0., 0., 0.],\n",
       "       [0., 0., 0., ..., 0., 0., 0.]])"
      ]
     },
     "execution_count": 9,
     "metadata": {},
     "output_type": "execute_result"
    }
   ],
   "source": [
    "# generate the musical score matrix\n",
    "def create_pitch_time_matrix(df, time_resolution):\n",
    "\n",
    "    max_pitch = df['pitch'].max()\n",
    "    end_time = df['end'].max()\n",
    "\n",
    "    matrix = np.zeros((max_pitch+1, int(end_time * time_resolution)))\n",
    "\n",
    "    for _, row in df.iterrows():\n",
    "        pitch = int(row['pitch'])\n",
    "        start_time = int(row['start'] * time_resolution)\n",
    "        end_time = int(row['end'] * time_resolution)\n",
    "        matrix[pitch, start_time:end_time] = 1 \n",
    "\n",
    "    return matrix\n",
    "\n",
    "r = create_pitch_time_matrix(raw_notes,4)\n",
    "c = r.size/8\n",
    "r"
   ]
  },
  {
   "cell_type": "markdown",
   "id": "4239ca70",
   "metadata": {},
   "source": [
    "# Dataset"
   ]
  },
  {
   "cell_type": "code",
   "execution_count": 22,
   "id": "32732600",
   "metadata": {},
   "outputs": [
    {
     "name": "stdout",
     "output_type": "stream",
     "text": [
      "Number of notes parsed: 139455\n"
     ]
    }
   ],
   "source": [
    "num_files = 25\n",
    "all_notes = []\n",
    "for f in filenames_c[:num_files]:\n",
    "    notes = midi_to_notes(f)\n",
    "    all_notes.append(notes)\n",
    "\n",
    "all_notes = pd.concat(all_notes)\n",
    "\n",
    "n_notes = len(all_notes)\n",
    "print('Number of notes parsed:', n_notes)\n",
    "\n",
    "key_order = ['pitch', 'step', 'duration']\n",
    "train_notes = all_notes"
   ]
  },
  {
   "cell_type": "code",
   "execution_count": 36,
   "id": "7ca7f22b",
   "metadata": {},
   "outputs": [
    {
     "name": "stderr",
     "output_type": "stream",
     "text": [
      "C:\\Users\\cavas\\AppData\\Local\\Temp\\ipykernel_14192\\4073299494.py:6: FutureWarning: Calling int on a single element Series is deprecated and will raise a TypeError in the future. Use int(ser.iloc[0]) instead\n",
      "  return int(abs(semitoni))\n",
      "C:\\Users\\cavas\\AppData\\Local\\Temp\\ipykernel_14192\\4073299494.py:12: FutureWarning: Calling int on a single element Series is deprecated and will raise a TypeError in the future. Use int(ser.iloc[0]) instead\n",
      "  return int(ottave)\n"
     ]
    }
   ],
   "source": [
    "# Dataset with intervall\n",
    "\n",
    "def calc_intervallo(pitch1:int,pitch2:int):\n",
    "    semitoni = (pitch2 - pitch1) % 12  # Usa il modulo per gestire le ottave\n",
    "\n",
    "    return int(abs(semitoni))\n",
    "\n",
    "def calc_diff(pitch1:int,pitch2:int)->int:\n",
    "    ottave = pitch2 - pitch1\n",
    "    ottave = ottave/12\n",
    "\n",
    "    return int(ottave)\n",
    "\n",
    "def create_intervall_data(df):\n",
    "    notes = [] \n",
    "    rate = 16\n",
    "    prev_note = df[0:1]\n",
    "    for _, row in df.iterrows():\n",
    "        intervall = calc_intervallo(prev_note['pitch'],row['pitch'])\n",
    "        difference = calc_diff(prev_note['pitch'],row['pitch'])\n",
    "        duration = int(row['duration']*rate)\n",
    "        step = int(row['step']*rate)\n",
    "        notes.append([intervall,difference,step,duration])\n",
    "    return pd.DataFrame(notes,columns=['intervallo','diff','step','duration'])\n",
    "df = create_intervall_data(train_notes)\n",
    "\n",
    "seq_length = 10\n",
    "\n",
    "dur_max = df['duration'].max()\n",
    "int_max = df['intervallo'].max()\n",
    "diff_max = df['diff'].max()\n",
    "diff_mini = df['diff'].min()\n",
    "step_max = df['step'].max()\n",
    "\n",
    "#Dataset with pitches\n",
    "def create_sequences(dataset, seq_length: int):\n",
    "    seq_length = seq_length+1\n",
    "\n",
    "    seq= []\n",
    "    for i in range(len(df)-seq_length):\n",
    "        seq.append(df.iloc[i:i+seq_length].values.tolist())\n",
    "\n",
    "    return seq\n",
    "data = create_sequences(df,seq_length)\n",
    "\n",
    "df = pd.DataFrame(data)"
   ]
  },
  {
   "cell_type": "code",
   "execution_count": 18,
   "id": "a11b46ac",
   "metadata": {},
   "outputs": [
    {
     "name": "stdout",
     "output_type": "stream",
     "text": [
      "Durata Massima 224\n",
      "Intervallo Massimo 11\n",
      "Differenza Masima 2\n",
      "Differenza Minima -5\n",
      "Step_massimo 265\n"
     ]
    },
    {
     "data": {
      "text/html": [
       "<div>\n",
       "<style scoped>\n",
       "    .dataframe tbody tr th:only-of-type {\n",
       "        vertical-align: middle;\n",
       "    }\n",
       "\n",
       "    .dataframe tbody tr th {\n",
       "        vertical-align: top;\n",
       "    }\n",
       "\n",
       "    .dataframe thead th {\n",
       "        text-align: right;\n",
       "    }\n",
       "</style>\n",
       "<table border=\"1\" class=\"dataframe\">\n",
       "  <thead>\n",
       "    <tr style=\"text-align: right;\">\n",
       "      <th></th>\n",
       "      <th>10</th>\n",
       "    </tr>\n",
       "  </thead>\n",
       "  <tbody>\n",
       "    <tr>\n",
       "      <th>0</th>\n",
       "      <td>[3, 0, 0, 1]</td>\n",
       "    </tr>\n",
       "    <tr>\n",
       "      <th>1</th>\n",
       "      <td>[1, 0, 0, 5]</td>\n",
       "    </tr>\n",
       "    <tr>\n",
       "      <th>2</th>\n",
       "      <td>[8, -1, 0, 1]</td>\n",
       "    </tr>\n",
       "    <tr>\n",
       "      <th>3</th>\n",
       "      <td>[7, -1, 2, 2]</td>\n",
       "    </tr>\n",
       "    <tr>\n",
       "      <th>4</th>\n",
       "      <td>[0, -1, 3, 1]</td>\n",
       "    </tr>\n",
       "    <tr>\n",
       "      <th>...</th>\n",
       "      <td>...</td>\n",
       "    </tr>\n",
       "    <tr>\n",
       "      <th>139439</th>\n",
       "      <td>[8, -3, 0, 0]</td>\n",
       "    </tr>\n",
       "    <tr>\n",
       "      <th>139440</th>\n",
       "      <td>[8, -4, 0, 1]</td>\n",
       "    </tr>\n",
       "    <tr>\n",
       "      <th>139441</th>\n",
       "      <td>[3, -2, 18, 0]</td>\n",
       "    </tr>\n",
       "    <tr>\n",
       "      <th>139442</th>\n",
       "      <td>[3, -3, 0, 0]</td>\n",
       "    </tr>\n",
       "    <tr>\n",
       "      <th>139443</th>\n",
       "      <td>[8, -3, 16, 0]</td>\n",
       "    </tr>\n",
       "  </tbody>\n",
       "</table>\n",
       "<p>139444 rows × 1 columns</p>\n",
       "</div>"
      ],
      "text/plain": [
       "                    10\n",
       "0         [3, 0, 0, 1]\n",
       "1         [1, 0, 0, 5]\n",
       "2        [8, -1, 0, 1]\n",
       "3        [7, -1, 2, 2]\n",
       "4        [0, -1, 3, 1]\n",
       "...                ...\n",
       "139439   [8, -3, 0, 0]\n",
       "139440   [8, -4, 0, 1]\n",
       "139441  [3, -2, 18, 0]\n",
       "139442   [3, -3, 0, 0]\n",
       "139443  [8, -3, 16, 0]\n",
       "\n",
       "[139444 rows x 1 columns]"
      ]
     },
     "execution_count": 18,
     "metadata": {},
     "output_type": "execute_result"
    }
   ],
   "source": [
    "import pickle\n",
    "from sklearn.calibration import LabelEncoder\n",
    "\n",
    "df_x = df[df.columns[:10]]\n",
    "df_y = df[df.columns[-1:]]\n",
    "\n",
    "\n",
    "print('Durata Massima '+str(dur_max))\n",
    "print('Intervallo Massimo '+str(int_max))\n",
    "print('Differenza Masima '+str(diff_max))\n",
    "print('Differenza Minima '+str(diff_mini))\n",
    "print('Step_massimo '+str(step_max))\n",
    "\n",
    "\n",
    "with open(\"dataset.pkl\", \"wb\") as f:\n",
    "    pickle.dump(df_x, f)\n",
    "\n",
    "with open(\"dataset_target.pkl\", \"wb\") as f:\n",
    "    pickle.dump(df_y, f)\n",
    "df_y"
   ]
  },
  {
   "cell_type": "markdown",
   "id": "7bbf9b9b",
   "metadata": {},
   "source": [
    "## Dataset with pitch"
   ]
  },
  {
   "cell_type": "code",
   "execution_count": 13,
   "id": "9eb34eb6",
   "metadata": {},
   "outputs": [
    {
     "name": "stderr",
     "output_type": "stream",
     "text": [
      "c:\\Users\\cavas\\anaconda3\\Lib\\site-packages\\pretty_midi\\pretty_midi.py:100: RuntimeWarning: Tempo, Key or Time signature change events found on non-zero tracks.  This is not a valid type 0 or type 1 MIDI file.  Tempo, Key or Time Signature may be wrong.\n",
      "  warnings.warn(\n"
     ]
    },
    {
     "name": "stdout",
     "output_type": "stream",
     "text": [
      "Number of notes parsed: 6958\n"
     ]
    },
    {
     "data": {
      "text/plain": [
       "TensorSpec(shape=(3,), dtype=tf.float64, name=None)"
      ]
     },
     "execution_count": 13,
     "metadata": {},
     "output_type": "execute_result"
    }
   ],
   "source": [
    "#Dataset with pitches\n",
    "num_files = 50\n",
    "all_notes = []\n",
    "for f in filenames_p[:num_files]:\n",
    "    notes = midi_to_notes(f)\n",
    "    all_notes.append(notes)\n",
    "\n",
    "all_notes = pd.concat(all_notes)\n",
    "\n",
    "n_notes = len(all_notes)\n",
    "print('Number of notes parsed:', n_notes)\n",
    "\n",
    "key_order = ['pitch', 'step', 'duration']\n",
    "train_notes = np.stack([all_notes[key] for key in key_order], axis=1)\n",
    "\n",
    "\n",
    "notes_ds = tf.data.Dataset.from_tensor_slices(train_notes)\n",
    "\n",
    "notes_ds.element_spec"
   ]
  },
  {
   "cell_type": "code",
   "execution_count": 14,
   "id": "1c76728a",
   "metadata": {},
   "outputs": [],
   "source": [
    "def create_sequences(\n",
    "    dataset: tf.data.Dataset, \n",
    "    seq_length: int,\n",
    "    vocab_size = 128,\n",
    ") -> tf.data.Dataset:\n",
    "  \"\"\"Returns TF Dataset of sequence and label examples.\"\"\"\n",
    "  seq_length = seq_length+1\n",
    "\n",
    "  # Take 1 extra for the labels\n",
    "  windows = dataset.window(seq_length, shift=1, stride=1,\n",
    "                              drop_remainder=True)\n",
    "\n",
    "  # `flat_map` flattens the\" dataset of datasets\" into a dataset of tensors\n",
    "  flatten = lambda x: x.batch(seq_length, drop_remainder=True)\n",
    "  sequences = windows.flat_map(flatten)\n",
    "\n",
    "  # Normalize note pitch\n",
    "  def scale_pitch(x):\n",
    "    x = x/[vocab_size,1.0,1.0]\n",
    "    return x\n",
    "\n",
    "  # Split the labels\n",
    "  def split_labels(sequences):\n",
    "    inputs = sequences[:-1]\n",
    "    labels_dense = sequences[-1]\n",
    "    labels = {key:labels_dense[i] for i,key in enumerate(key_order)}\n",
    "\n",
    "    return scale_pitch(inputs), labels\n",
    "\n",
    "  return sequences.map(split_labels, num_parallel_calls=tf.data.AUTOTUNE)\n"
   ]
  },
  {
   "cell_type": "markdown",
   "id": "3037649e",
   "metadata": {},
   "source": [
    "## Dataset Multi Genre"
   ]
  },
  {
   "cell_type": "code",
   "execution_count": 15,
   "id": "a94814a0",
   "metadata": {},
   "outputs": [
    {
     "ename": "KeyboardInterrupt",
     "evalue": "",
     "output_type": "error",
     "traceback": [
      "\u001b[1;31m---------------------------------------------------------------------------\u001b[0m",
      "\u001b[1;31mKeyboardInterrupt\u001b[0m                         Traceback (most recent call last)",
      "Cell \u001b[1;32mIn[15], line 5\u001b[0m\n\u001b[0;32m      3\u001b[0m all_notes \u001b[38;5;241m=\u001b[39m []\n\u001b[0;32m      4\u001b[0m \u001b[38;5;28;01mfor\u001b[39;00m f \u001b[38;5;129;01min\u001b[39;00m filenames_c[:num_files]:\n\u001b[1;32m----> 5\u001b[0m     notes \u001b[38;5;241m=\u001b[39m midi_to_notes(f)\n\u001b[0;32m      6\u001b[0m     all_notes\u001b[38;5;241m.\u001b[39mappend(notes)\n\u001b[0;32m      8\u001b[0m \u001b[38;5;28;01mfor\u001b[39;00m f \u001b[38;5;129;01min\u001b[39;00m filenames_p[:num_files]:\n",
      "Cell \u001b[1;32mIn[7], line 4\u001b[0m, in \u001b[0;36mmidi_to_notes\u001b[1;34m(midi_file)\u001b[0m\n\u001b[0;32m      3\u001b[0m \u001b[38;5;28;01mdef\u001b[39;00m \u001b[38;5;21mmidi_to_notes\u001b[39m(midi_file: \u001b[38;5;28mstr\u001b[39m) \u001b[38;5;241m-\u001b[39m\u001b[38;5;241m>\u001b[39m pd\u001b[38;5;241m.\u001b[39mDataFrame:\n\u001b[1;32m----> 4\u001b[0m     pm \u001b[38;5;241m=\u001b[39m pretty_midi\u001b[38;5;241m.\u001b[39mPrettyMIDI(midi_file)\n\u001b[0;32m      5\u001b[0m     instrument \u001b[38;5;241m=\u001b[39m pm\u001b[38;5;241m.\u001b[39minstruments[\u001b[38;5;241m0\u001b[39m]\n\u001b[0;32m      6\u001b[0m     notes \u001b[38;5;241m=\u001b[39m collections\u001b[38;5;241m.\u001b[39mdefaultdict(\u001b[38;5;28mlist\u001b[39m)\n",
      "File \u001b[1;32mc:\\Users\\cavas\\anaconda3\\Lib\\site-packages\\pretty_midi\\pretty_midi.py:63\u001b[0m, in \u001b[0;36mPrettyMIDI.__init__\u001b[1;34m(self, midi_file, resolution, initial_tempo)\u001b[0m\n\u001b[0;32m     59\u001b[0m \u001b[38;5;28;01mif\u001b[39;00m midi_file \u001b[38;5;129;01mis\u001b[39;00m \u001b[38;5;129;01mnot\u001b[39;00m \u001b[38;5;28;01mNone\u001b[39;00m:\n\u001b[0;32m     60\u001b[0m     \u001b[38;5;66;03m# Load in the MIDI data using the midi module\u001b[39;00m\n\u001b[0;32m     61\u001b[0m     \u001b[38;5;28;01mif\u001b[39;00m \u001b[38;5;28misinstance\u001b[39m(midi_file, six\u001b[38;5;241m.\u001b[39mstring_types):\n\u001b[0;32m     62\u001b[0m         \u001b[38;5;66;03m# If a string was given, pass it as the string filename\u001b[39;00m\n\u001b[1;32m---> 63\u001b[0m         midi_data \u001b[38;5;241m=\u001b[39m mido\u001b[38;5;241m.\u001b[39mMidiFile(filename\u001b[38;5;241m=\u001b[39mmidi_file)\n\u001b[0;32m     64\u001b[0m     \u001b[38;5;28;01melse\u001b[39;00m:\n\u001b[0;32m     65\u001b[0m         \u001b[38;5;66;03m# Otherwise, try passing it in as a file pointer\u001b[39;00m\n\u001b[0;32m     66\u001b[0m         midi_data \u001b[38;5;241m=\u001b[39m mido\u001b[38;5;241m.\u001b[39mMidiFile(file\u001b[38;5;241m=\u001b[39mmidi_file)\n",
      "File \u001b[1;32mc:\\Users\\cavas\\anaconda3\\Lib\\site-packages\\mido\\midifiles\\midifiles.py:324\u001b[0m, in \u001b[0;36mMidiFile.__init__\u001b[1;34m(self, filename, file, type, ticks_per_beat, charset, debug, clip, tracks)\u001b[0m\n\u001b[0;32m    322\u001b[0m \u001b[38;5;28;01melif\u001b[39;00m \u001b[38;5;28mself\u001b[39m\u001b[38;5;241m.\u001b[39mfilename \u001b[38;5;129;01mis\u001b[39;00m \u001b[38;5;129;01mnot\u001b[39;00m \u001b[38;5;28;01mNone\u001b[39;00m:\n\u001b[0;32m    323\u001b[0m     \u001b[38;5;28;01mwith\u001b[39;00m io\u001b[38;5;241m.\u001b[39mopen(filename, \u001b[38;5;124m'\u001b[39m\u001b[38;5;124mrb\u001b[39m\u001b[38;5;124m'\u001b[39m) \u001b[38;5;28;01mas\u001b[39;00m file:\n\u001b[1;32m--> 324\u001b[0m         \u001b[38;5;28mself\u001b[39m\u001b[38;5;241m.\u001b[39m_load(file)\n",
      "File \u001b[1;32mc:\\Users\\cavas\\anaconda3\\Lib\\site-packages\\mido\\midifiles\\midifiles.py:359\u001b[0m, in \u001b[0;36mMidiFile._load\u001b[1;34m(self, infile)\u001b[0m\n\u001b[0;32m    356\u001b[0m \u001b[38;5;28;01mif\u001b[39;00m \u001b[38;5;28mself\u001b[39m\u001b[38;5;241m.\u001b[39mdebug:\n\u001b[0;32m    357\u001b[0m     _dbg(\u001b[38;5;124m'\u001b[39m\u001b[38;5;124mTrack \u001b[39m\u001b[38;5;132;01m{}\u001b[39;00m\u001b[38;5;124m:\u001b[39m\u001b[38;5;124m'\u001b[39m\u001b[38;5;241m.\u001b[39mformat(i))\n\u001b[1;32m--> 359\u001b[0m \u001b[38;5;28mself\u001b[39m\u001b[38;5;241m.\u001b[39mtracks\u001b[38;5;241m.\u001b[39mappend(read_track(infile,\n\u001b[0;32m    360\u001b[0m                               debug\u001b[38;5;241m=\u001b[39m\u001b[38;5;28mself\u001b[39m\u001b[38;5;241m.\u001b[39mdebug,\n\u001b[0;32m    361\u001b[0m                               clip\u001b[38;5;241m=\u001b[39m\u001b[38;5;28mself\u001b[39m\u001b[38;5;241m.\u001b[39mclip))\n",
      "File \u001b[1;32mc:\\Users\\cavas\\anaconda3\\Lib\\site-packages\\mido\\midifiles\\midifiles.py:192\u001b[0m, in \u001b[0;36mread_track\u001b[1;34m(infile, debug, clip)\u001b[0m\n\u001b[0;32m    188\u001b[0m last_status \u001b[38;5;241m=\u001b[39m \u001b[38;5;28;01mNone\u001b[39;00m\n\u001b[0;32m    190\u001b[0m \u001b[38;5;28;01mwhile\u001b[39;00m \u001b[38;5;28;01mTrue\u001b[39;00m:\n\u001b[0;32m    191\u001b[0m     \u001b[38;5;66;03m# End of track reached.\u001b[39;00m\n\u001b[1;32m--> 192\u001b[0m     \u001b[38;5;28;01mif\u001b[39;00m infile\u001b[38;5;241m.\u001b[39mtell() \u001b[38;5;241m-\u001b[39m start \u001b[38;5;241m==\u001b[39m size:\n\u001b[0;32m    193\u001b[0m         \u001b[38;5;28;01mbreak\u001b[39;00m\n\u001b[0;32m    195\u001b[0m     \u001b[38;5;28;01mif\u001b[39;00m debug:\n",
      "\u001b[1;31mKeyboardInterrupt\u001b[0m: "
     ]
    }
   ],
   "source": [
    "num_files = 25\n",
    "\n",
    "all_notes = []\n",
    "for f in filenames_c[:num_files]:\n",
    "    notes = midi_to_notes(f)\n",
    "    all_notes.append(notes)\n",
    "\n",
    "for f in filenames_p[:num_files]:\n",
    "    notes = midi_to_notes(f)\n",
    "    all_notes.append(notes)\n",
    "\n",
    "all_notes = pd.concat(all_notes)\n",
    "\n",
    "n_notes = len(all_notes)\n",
    "print('Number of notes parsed:', n_notes)\n",
    "\n",
    "key_order = ['pitch', 'step', 'duration']\n",
    "train_notes = all_notes"
   ]
  },
  {
   "cell_type": "code",
   "execution_count": null,
   "id": "70b1835f",
   "metadata": {},
   "outputs": [],
   "source": [
    "def notes_to_midi(notes: pd.DataFrame, out_file: str, instrument_name: str,\n",
    "                  velocity: int = 100) -> pretty_midi.PrettyMIDI:\n",
    "\n",
    "    pm = pretty_midi.PrettyMIDI()\n",
    "    instrument = pretty_midi.Instrument(\n",
    "      program=pretty_midi.instrument_name_to_program(\n",
    "          instrument_name))\n",
    "\n",
    "    prev_start = 0\n",
    "    for i, note in notes.iterrows():\n",
    "        start = float(prev_start + note['step'])\n",
    "        end = float(start + note['duration'])\n",
    "        \n",
    "        note = pretty_midi.Note(velocity=velocity, pitch=int(note['pitch']),\n",
    "                                start=start, end=end)\n",
    "        instrument.notes.append(note)\n",
    "        prev_start = start\n",
    "\n",
    "    pm.instruments.append(instrument)\n",
    "    pm.write(out_file)\n",
    "    return pm\n",
    "\n",
    "example_file = 'example.midi'\n",
    "example_pm = notes_to_midi(\n",
    "    raw_notes, out_file=example_file, instrument_name=instrument_name)"
   ]
  }
 ],
 "metadata": {
  "kernelspec": {
   "display_name": "base",
   "language": "python",
   "name": "python3"
  },
  "language_info": {
   "codemirror_mode": {
    "name": "ipython",
    "version": 3
   },
   "file_extension": ".py",
   "mimetype": "text/x-python",
   "name": "python",
   "nbconvert_exporter": "python",
   "pygments_lexer": "ipython3",
   "version": "3.12.7"
  }
 },
 "nbformat": 4,
 "nbformat_minor": 5
}
