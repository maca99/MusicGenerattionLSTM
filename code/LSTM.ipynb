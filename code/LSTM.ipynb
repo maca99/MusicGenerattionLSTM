{
 "cells": [
  {
   "cell_type": "markdown",
   "id": "99c3a9db",
   "metadata": {},
   "source": [
    "## LSTM Neural Network for music generation"
   ]
  },
  {
   "cell_type": "markdown",
   "id": "3a3223ff",
   "metadata": {},
   "source": [
    "### Model without the intervall encoding"
   ]
  },
  {
   "cell_type": "code",
   "execution_count": 3,
   "id": "624b2e57",
   "metadata": {},
   "outputs": [],
   "source": [
    "#Imports\n",
    "import tensorflow as tf\n",
    "import pandas as pd\n",
    "import numpy as np\n",
    "from sklearn.preprocessing import MinMaxScaler\n",
    "import pickle"
   ]
  },
  {
   "cell_type": "code",
   "execution_count": 4,
   "id": "5a8c587b",
   "metadata": {},
   "outputs": [
    {
     "ename": "KeyboardInterrupt",
     "evalue": "",
     "output_type": "error",
     "traceback": [
      "\u001b[1;31m---------------------------------------------------------------------------\u001b[0m",
      "\u001b[1;31mKeyboardInterrupt\u001b[0m                         Traceback (most recent call last)",
      "Cell \u001b[1;32mIn[4], line 4\u001b[0m\n\u001b[0;32m      1\u001b[0m \u001b[38;5;66;03m# load the dataset\u001b[39;00m\n\u001b[0;32m      2\u001b[0m path \u001b[38;5;241m=\u001b[39m \u001b[38;5;124m\"\u001b[39m\u001b[38;5;124mDataset\u001b[39m\u001b[38;5;124m\"\u001b[39m\n\u001b[1;32m----> 4\u001b[0m data \u001b[38;5;241m=\u001b[39m tf\u001b[38;5;241m.\u001b[39mdata\u001b[38;5;241m.\u001b[39mTFRecordDataset\u001b[38;5;241m.\u001b[39mload(path)\n",
      "File \u001b[1;32mc:\\Users\\cavas\\anaconda3\\Lib\\site-packages\\tensorflow\\python\\data\\ops\\dataset_ops.py:1846\u001b[0m, in \u001b[0;36mDatasetV2.load\u001b[1;34m(path, element_spec, compression, reader_func, wait)\u001b[0m\n\u001b[0;32m   1842\u001b[0m \u001b[38;5;66;03m# Loaded lazily due to a circular dependency (dataset_ops -> load_op ->\u001b[39;00m\n\u001b[0;32m   1843\u001b[0m \u001b[38;5;66;03m# dataset_ops).\u001b[39;00m\n\u001b[0;32m   1844\u001b[0m \u001b[38;5;66;03m# pylint: disable=g-import-not-at-top,protected-access\u001b[39;00m\n\u001b[0;32m   1845\u001b[0m \u001b[38;5;28;01mfrom\u001b[39;00m \u001b[38;5;21;01mtensorflow\u001b[39;00m\u001b[38;5;21;01m.\u001b[39;00m\u001b[38;5;21;01mpython\u001b[39;00m\u001b[38;5;21;01m.\u001b[39;00m\u001b[38;5;21;01mdata\u001b[39;00m\u001b[38;5;21;01m.\u001b[39;00m\u001b[38;5;21;01mops\u001b[39;00m \u001b[38;5;28;01mimport\u001b[39;00m load_op\n\u001b[1;32m-> 1846\u001b[0m \u001b[38;5;28;01mreturn\u001b[39;00m load_op\u001b[38;5;241m.\u001b[39m_load(\n\u001b[0;32m   1847\u001b[0m     path\u001b[38;5;241m=\u001b[39mpath,\n\u001b[0;32m   1848\u001b[0m     element_spec\u001b[38;5;241m=\u001b[39melement_spec,\n\u001b[0;32m   1849\u001b[0m     compression\u001b[38;5;241m=\u001b[39mcompression,\n\u001b[0;32m   1850\u001b[0m     reader_func\u001b[38;5;241m=\u001b[39mreader_func,\n\u001b[0;32m   1851\u001b[0m     wait\u001b[38;5;241m=\u001b[39mwait)\n",
      "File \u001b[1;32mc:\\Users\\cavas\\anaconda3\\Lib\\site-packages\\tensorflow\\python\\data\\ops\\load_op.py:60\u001b[0m, in \u001b[0;36m_load\u001b[1;34m(path, element_spec, compression, reader_func, wait)\u001b[0m\n\u001b[0;32m     54\u001b[0m \u001b[38;5;28;01mif\u001b[39;00m reader_func \u001b[38;5;129;01mis\u001b[39;00m \u001b[38;5;28;01mNone\u001b[39;00m:\n\u001b[0;32m     55\u001b[0m   reader_func \u001b[38;5;241m=\u001b[39m \u001b[38;5;28;01mlambda\u001b[39;00m datasets: datasets\u001b[38;5;241m.\u001b[39minterleave(  \u001b[38;5;66;03m# pylint:disable=g-long-lambda\u001b[39;00m\n\u001b[0;32m     56\u001b[0m       \u001b[38;5;28;01mlambda\u001b[39;00m x: x,\n\u001b[0;32m     57\u001b[0m       cycle_length\u001b[38;5;241m=\u001b[39mmultiprocessing\u001b[38;5;241m.\u001b[39mcpu_count(),\n\u001b[0;32m     58\u001b[0m       num_parallel_calls\u001b[38;5;241m=\u001b[39mdataset_ops\u001b[38;5;241m.\u001b[39mAUTOTUNE)\n\u001b[1;32m---> 60\u001b[0m distributed_snapshot_metadata \u001b[38;5;241m=\u001b[39m _load_distributed_snapshot_metadata(path)\n\u001b[0;32m     61\u001b[0m \u001b[38;5;28;01mif\u001b[39;00m distributed_snapshot_metadata:\n\u001b[0;32m     62\u001b[0m   _validate_snapshot(\n\u001b[0;32m     63\u001b[0m       path, distributed_snapshot_metadata, element_spec, compression)\n",
      "File \u001b[1;32mc:\\Users\\cavas\\anaconda3\\Lib\\site-packages\\tensorflow\\python\\data\\ops\\load_op.py:115\u001b[0m, in \u001b[0;36m_load_distributed_snapshot_metadata\u001b[1;34m(path)\u001b[0m\n\u001b[0;32m    113\u001b[0m \u001b[38;5;28;01mtry\u001b[39;00m:\n\u001b[0;32m    114\u001b[0m   \u001b[38;5;28;01mwith\u001b[39;00m gfile\u001b[38;5;241m.\u001b[39mGFile(metadata_file, \u001b[38;5;124m\"\u001b[39m\u001b[38;5;124mr\u001b[39m\u001b[38;5;124m\"\u001b[39m) \u001b[38;5;28;01mas\u001b[39;00m f:\n\u001b[1;32m--> 115\u001b[0m     \u001b[38;5;28;01mreturn\u001b[39;00m text_format\u001b[38;5;241m.\u001b[39mParseLines(\n\u001b[0;32m    116\u001b[0m         f, snapshot_pb2\u001b[38;5;241m.\u001b[39mDistributedSnapshotMetadata())\n\u001b[0;32m    117\u001b[0m \u001b[38;5;28;01mexcept\u001b[39;00m (\n\u001b[0;32m    118\u001b[0m     errors\u001b[38;5;241m.\u001b[39mNotFoundError,\n\u001b[0;32m    119\u001b[0m     text_format\u001b[38;5;241m.\u001b[39mParseError,\n\u001b[0;32m    120\u001b[0m     message\u001b[38;5;241m.\u001b[39mDecodeError,\n\u001b[0;32m    121\u001b[0m     \u001b[38;5;167;01mUnicodeDecodeError\u001b[39;00m):\n\u001b[0;32m    122\u001b[0m   \u001b[38;5;28;01mreturn\u001b[39;00m \u001b[38;5;28;01mNone\u001b[39;00m\n",
      "File \u001b[1;32mc:\\Users\\cavas\\anaconda3\\Lib\\site-packages\\google\\protobuf\\text_format.py:761\u001b[0m, in \u001b[0;36mParseLines\u001b[1;34m(lines, message, allow_unknown_extension, allow_field_number, descriptor_pool, allow_unknown_field)\u001b[0m\n\u001b[0;32m    736\u001b[0m \u001b[38;5;250m\u001b[39m\u001b[38;5;124;03m\"\"\"Parses a text representation of a protocol message into a message.\u001b[39;00m\n\u001b[0;32m    737\u001b[0m \n\u001b[0;32m    738\u001b[0m \u001b[38;5;124;03mSee Parse() for caveats.\u001b[39;00m\n\u001b[1;32m   (...)\u001b[0m\n\u001b[0;32m    755\u001b[0m \u001b[38;5;124;03m  ParseError: On text parsing problems.\u001b[39;00m\n\u001b[0;32m    756\u001b[0m \u001b[38;5;124;03m\"\"\"\u001b[39;00m\n\u001b[0;32m    757\u001b[0m parser \u001b[38;5;241m=\u001b[39m _Parser(allow_unknown_extension,\n\u001b[0;32m    758\u001b[0m                  allow_field_number,\n\u001b[0;32m    759\u001b[0m                  descriptor_pool\u001b[38;5;241m=\u001b[39mdescriptor_pool,\n\u001b[0;32m    760\u001b[0m                  allow_unknown_field\u001b[38;5;241m=\u001b[39mallow_unknown_field)\n\u001b[1;32m--> 761\u001b[0m \u001b[38;5;28;01mreturn\u001b[39;00m parser\u001b[38;5;241m.\u001b[39mParseLines(lines, message)\n",
      "File \u001b[1;32mc:\\Users\\cavas\\anaconda3\\Lib\\site-packages\\google\\protobuf\\text_format.py:814\u001b[0m, in \u001b[0;36m_Parser.ParseLines\u001b[1;34m(self, lines, message)\u001b[0m\n\u001b[0;32m    812\u001b[0m \u001b[38;5;250m\u001b[39m\u001b[38;5;124;03m\"\"\"Parses a text representation of a protocol message into a message.\"\"\"\u001b[39;00m\n\u001b[0;32m    813\u001b[0m \u001b[38;5;28mself\u001b[39m\u001b[38;5;241m.\u001b[39m_allow_multiple_scalars \u001b[38;5;241m=\u001b[39m \u001b[38;5;28;01mFalse\u001b[39;00m\n\u001b[1;32m--> 814\u001b[0m \u001b[38;5;28mself\u001b[39m\u001b[38;5;241m.\u001b[39m_ParseOrMerge(lines, message)\n\u001b[0;32m    815\u001b[0m \u001b[38;5;28;01mreturn\u001b[39;00m message\n",
      "File \u001b[1;32mc:\\Users\\cavas\\anaconda3\\Lib\\site-packages\\google\\protobuf\\text_format.py:838\u001b[0m, in \u001b[0;36m_Parser._ParseOrMerge\u001b[1;34m(self, lines, message)\u001b[0m\n\u001b[0;32m    834\u001b[0m \u001b[38;5;28;01mtry\u001b[39;00m:\n\u001b[0;32m    835\u001b[0m   str_lines \u001b[38;5;241m=\u001b[39m (\n\u001b[0;32m    836\u001b[0m       line \u001b[38;5;28;01mif\u001b[39;00m \u001b[38;5;28misinstance\u001b[39m(line, \u001b[38;5;28mstr\u001b[39m) \u001b[38;5;28;01melse\u001b[39;00m line\u001b[38;5;241m.\u001b[39mdecode(\u001b[38;5;124m'\u001b[39m\u001b[38;5;124mutf-8\u001b[39m\u001b[38;5;124m'\u001b[39m)\n\u001b[0;32m    837\u001b[0m       \u001b[38;5;28;01mfor\u001b[39;00m line \u001b[38;5;129;01min\u001b[39;00m lines)\n\u001b[1;32m--> 838\u001b[0m   tokenizer \u001b[38;5;241m=\u001b[39m Tokenizer(str_lines)\n\u001b[0;32m    839\u001b[0m \u001b[38;5;28;01mexcept\u001b[39;00m \u001b[38;5;167;01mUnicodeDecodeError\u001b[39;00m \u001b[38;5;28;01mas\u001b[39;00m e:\n\u001b[0;32m    840\u001b[0m   \u001b[38;5;28;01mraise\u001b[39;00m ParseError \u001b[38;5;28;01mfrom\u001b[39;00m \u001b[38;5;21;01me\u001b[39;00m\n",
      "File \u001b[1;32mc:\\Users\\cavas\\anaconda3\\Lib\\site-packages\\google\\protobuf\\text_format.py:1295\u001b[0m, in \u001b[0;36mTokenizer.__init__\u001b[1;34m(self, lines, skip_comments)\u001b[0m\n\u001b[0;32m   1291\u001b[0m \u001b[38;5;28mself\u001b[39m\u001b[38;5;241m.\u001b[39m_whitespace_pattern \u001b[38;5;241m=\u001b[39m (skip_comments \u001b[38;5;129;01mand\u001b[39;00m \u001b[38;5;28mself\u001b[39m\u001b[38;5;241m.\u001b[39m_WHITESPACE_OR_COMMENT\n\u001b[0;32m   1292\u001b[0m                             \u001b[38;5;129;01mor\u001b[39;00m \u001b[38;5;28mself\u001b[39m\u001b[38;5;241m.\u001b[39m_WHITESPACE)\n\u001b[0;32m   1293\u001b[0m \u001b[38;5;28mself\u001b[39m\u001b[38;5;241m.\u001b[39mcontains_silent_marker_before_current_token \u001b[38;5;241m=\u001b[39m \u001b[38;5;28;01mFalse\u001b[39;00m\n\u001b[1;32m-> 1295\u001b[0m \u001b[38;5;28mself\u001b[39m\u001b[38;5;241m.\u001b[39m_SkipWhitespace()\n\u001b[0;32m   1296\u001b[0m \u001b[38;5;28mself\u001b[39m\u001b[38;5;241m.\u001b[39mNextToken()\n",
      "File \u001b[1;32mc:\\Users\\cavas\\anaconda3\\Lib\\site-packages\\google\\protobuf\\text_format.py:1323\u001b[0m, in \u001b[0;36mTokenizer._SkipWhitespace\u001b[1;34m(self)\u001b[0m\n\u001b[0;32m   1321\u001b[0m \u001b[38;5;28;01mdef\u001b[39;00m \u001b[38;5;21m_SkipWhitespace\u001b[39m(\u001b[38;5;28mself\u001b[39m):\n\u001b[0;32m   1322\u001b[0m   \u001b[38;5;28;01mwhile\u001b[39;00m \u001b[38;5;28;01mTrue\u001b[39;00m:\n\u001b[1;32m-> 1323\u001b[0m     \u001b[38;5;28mself\u001b[39m\u001b[38;5;241m.\u001b[39m_PopLine()\n\u001b[0;32m   1324\u001b[0m     match \u001b[38;5;241m=\u001b[39m \u001b[38;5;28mself\u001b[39m\u001b[38;5;241m.\u001b[39m_whitespace_pattern\u001b[38;5;241m.\u001b[39mmatch(\u001b[38;5;28mself\u001b[39m\u001b[38;5;241m.\u001b[39m_current_line, \u001b[38;5;28mself\u001b[39m\u001b[38;5;241m.\u001b[39m_column)\n\u001b[0;32m   1325\u001b[0m     \u001b[38;5;28;01mif\u001b[39;00m \u001b[38;5;129;01mnot\u001b[39;00m match:\n",
      "File \u001b[1;32mc:\\Users\\cavas\\anaconda3\\Lib\\site-packages\\google\\protobuf\\text_format.py:1312\u001b[0m, in \u001b[0;36mTokenizer._PopLine\u001b[1;34m(self)\u001b[0m\n\u001b[0;32m   1310\u001b[0m \u001b[38;5;28;01mwhile\u001b[39;00m \u001b[38;5;28mlen\u001b[39m(\u001b[38;5;28mself\u001b[39m\u001b[38;5;241m.\u001b[39m_current_line) \u001b[38;5;241m<\u001b[39m\u001b[38;5;241m=\u001b[39m \u001b[38;5;28mself\u001b[39m\u001b[38;5;241m.\u001b[39m_column:\n\u001b[0;32m   1311\u001b[0m   \u001b[38;5;28;01mtry\u001b[39;00m:\n\u001b[1;32m-> 1312\u001b[0m     \u001b[38;5;28mself\u001b[39m\u001b[38;5;241m.\u001b[39m_current_line \u001b[38;5;241m=\u001b[39m \u001b[38;5;28mnext\u001b[39m(\u001b[38;5;28mself\u001b[39m\u001b[38;5;241m.\u001b[39m_lines)\n\u001b[0;32m   1313\u001b[0m   \u001b[38;5;28;01mexcept\u001b[39;00m \u001b[38;5;167;01mStopIteration\u001b[39;00m:\n\u001b[0;32m   1314\u001b[0m     \u001b[38;5;28mself\u001b[39m\u001b[38;5;241m.\u001b[39m_current_line \u001b[38;5;241m=\u001b[39m \u001b[38;5;124m'\u001b[39m\u001b[38;5;124m'\u001b[39m\n",
      "File \u001b[1;32mc:\\Users\\cavas\\anaconda3\\Lib\\site-packages\\google\\protobuf\\text_format.py:835\u001b[0m, in \u001b[0;36m<genexpr>\u001b[1;34m(.0)\u001b[0m\n\u001b[0;32m    833\u001b[0m \u001b[38;5;66;03m# Tokenize expects native str lines.\u001b[39;00m\n\u001b[0;32m    834\u001b[0m \u001b[38;5;28;01mtry\u001b[39;00m:\n\u001b[1;32m--> 835\u001b[0m   str_lines \u001b[38;5;241m=\u001b[39m (\n\u001b[0;32m    836\u001b[0m       line \u001b[38;5;28;01mif\u001b[39;00m \u001b[38;5;28misinstance\u001b[39m(line, \u001b[38;5;28mstr\u001b[39m) \u001b[38;5;28;01melse\u001b[39;00m line\u001b[38;5;241m.\u001b[39mdecode(\u001b[38;5;124m'\u001b[39m\u001b[38;5;124mutf-8\u001b[39m\u001b[38;5;124m'\u001b[39m)\n\u001b[0;32m    837\u001b[0m       \u001b[38;5;28;01mfor\u001b[39;00m line \u001b[38;5;129;01min\u001b[39;00m lines)\n\u001b[0;32m    838\u001b[0m   tokenizer \u001b[38;5;241m=\u001b[39m Tokenizer(str_lines)\n\u001b[0;32m    839\u001b[0m \u001b[38;5;28;01mexcept\u001b[39;00m \u001b[38;5;167;01mUnicodeDecodeError\u001b[39;00m \u001b[38;5;28;01mas\u001b[39;00m e:\n",
      "File \u001b[1;32mc:\\Users\\cavas\\anaconda3\\Lib\\site-packages\\tensorflow\\python\\lib\\io\\file_io.py:205\u001b[0m, in \u001b[0;36mFileIO.__next__\u001b[1;34m(self)\u001b[0m\n\u001b[0;32m    204\u001b[0m \u001b[38;5;28;01mdef\u001b[39;00m \u001b[38;5;21m__next__\u001b[39m(\u001b[38;5;28mself\u001b[39m):\n\u001b[1;32m--> 205\u001b[0m   retval \u001b[38;5;241m=\u001b[39m \u001b[38;5;28mself\u001b[39m\u001b[38;5;241m.\u001b[39mreadline()\n\u001b[0;32m    206\u001b[0m   \u001b[38;5;28;01mif\u001b[39;00m \u001b[38;5;129;01mnot\u001b[39;00m retval:\n\u001b[0;32m    207\u001b[0m     \u001b[38;5;28;01mraise\u001b[39;00m \u001b[38;5;167;01mStopIteration\u001b[39;00m()\n",
      "File \u001b[1;32mc:\\Users\\cavas\\anaconda3\\Lib\\site-packages\\tensorflow\\python\\lib\\io\\file_io.py:170\u001b[0m, in \u001b[0;36mFileIO.readline\u001b[1;34m(self)\u001b[0m\n\u001b[0;32m    168\u001b[0m \u001b[38;5;250m\u001b[39m\u001b[38;5;124mr\u001b[39m\u001b[38;5;124;03m\"\"\"Reads the next line, keeping \\n. At EOF, returns ''.\"\"\"\u001b[39;00m\n\u001b[0;32m    169\u001b[0m \u001b[38;5;28mself\u001b[39m\u001b[38;5;241m.\u001b[39m_preread_check()\n\u001b[1;32m--> 170\u001b[0m \u001b[38;5;28;01mreturn\u001b[39;00m \u001b[38;5;28mself\u001b[39m\u001b[38;5;241m.\u001b[39m_prepare_value(\u001b[38;5;28mself\u001b[39m\u001b[38;5;241m.\u001b[39m_read_buf\u001b[38;5;241m.\u001b[39mreadline())\n",
      "\u001b[1;31mKeyboardInterrupt\u001b[0m: "
     ]
    }
   ],
   "source": [
    "# load the dataset\n",
    "path = \"Dataset\"\n",
    "\n",
    "data = tf.data.TFRecordDataset.load(path)"
   ]
  },
  {
   "cell_type": "code",
   "execution_count": null,
   "id": "6bd541b8",
   "metadata": {},
   "outputs": [],
   "source": [
    "n_notes = 37241\n",
    "seq_length = 25\n",
    "vocab_size = 8\n",
    "batch_size = 64\n",
    "key_order = ['pitch', 'step', 'duration']\n",
    "buffer_size = n_notes - seq_length  # the number of items in the dataset\n",
    "train_ds = (data\n",
    "            .shuffle(buffer_size)\n",
    "            .batch(batch_size, drop_remainder=True)\n",
    "            .cache()\n",
    "            .prefetch(tf.data.experimental.AUTOTUNE))"
   ]
  },
  {
   "cell_type": "code",
   "execution_count": null,
   "id": "c22991ff",
   "metadata": {},
   "outputs": [
    {
     "data": {
      "text/html": [
       "<pre style=\"white-space:pre;overflow-x:auto;line-height:normal;font-family:Menlo,'DejaVu Sans Mono',consolas,'Courier New',monospace\"><span style=\"font-weight: bold\">Model: \"functional_2\"</span>\n",
       "</pre>\n"
      ],
      "text/plain": [
       "\u001b[1mModel: \"functional_2\"\u001b[0m\n"
      ]
     },
     "metadata": {},
     "output_type": "display_data"
    },
    {
     "data": {
      "text/html": [
       "<pre style=\"white-space:pre;overflow-x:auto;line-height:normal;font-family:Menlo,'DejaVu Sans Mono',consolas,'Courier New',monospace\">┏━━━━━━━━━━━━━━━━━━━━━┳━━━━━━━━━━━━━━━━━━━┳━━━━━━━━━━━━┳━━━━━━━━━━━━━━━━━━━┓\n",
       "┃<span style=\"font-weight: bold\"> Layer (type)        </span>┃<span style=\"font-weight: bold\"> Output Shape      </span>┃<span style=\"font-weight: bold\">    Param # </span>┃<span style=\"font-weight: bold\"> Connected to      </span>┃\n",
       "┡━━━━━━━━━━━━━━━━━━━━━╇━━━━━━━━━━━━━━━━━━━╇━━━━━━━━━━━━╇━━━━━━━━━━━━━━━━━━━┩\n",
       "│ input_layer_2       │ (<span style=\"color: #00d7ff; text-decoration-color: #00d7ff\">None</span>, <span style=\"color: #00af00; text-decoration-color: #00af00\">25</span>, <span style=\"color: #00af00; text-decoration-color: #00af00\">3</span>)     │          <span style=\"color: #00af00; text-decoration-color: #00af00\">0</span> │ -                 │\n",
       "│ (<span style=\"color: #0087ff; text-decoration-color: #0087ff\">InputLayer</span>)        │                   │            │                   │\n",
       "├─────────────────────┼───────────────────┼────────────┼───────────────────┤\n",
       "│ lstm_2 (<span style=\"color: #0087ff; text-decoration-color: #0087ff\">LSTM</span>)       │ (<span style=\"color: #00d7ff; text-decoration-color: #00d7ff\">None</span>, <span style=\"color: #00af00; text-decoration-color: #00af00\">128</span>)       │     <span style=\"color: #00af00; text-decoration-color: #00af00\">67,584</span> │ input_layer_2[<span style=\"color: #00af00; text-decoration-color: #00af00\">0</span>]… │\n",
       "├─────────────────────┼───────────────────┼────────────┼───────────────────┤\n",
       "│ duration (<span style=\"color: #0087ff; text-decoration-color: #0087ff\">Dense</span>)    │ (<span style=\"color: #00d7ff; text-decoration-color: #00d7ff\">None</span>, <span style=\"color: #00af00; text-decoration-color: #00af00\">1</span>)         │        <span style=\"color: #00af00; text-decoration-color: #00af00\">129</span> │ lstm_2[<span style=\"color: #00af00; text-decoration-color: #00af00\">0</span>][<span style=\"color: #00af00; text-decoration-color: #00af00\">0</span>]      │\n",
       "├─────────────────────┼───────────────────┼────────────┼───────────────────┤\n",
       "│ pitch (<span style=\"color: #0087ff; text-decoration-color: #0087ff\">Dense</span>)       │ (<span style=\"color: #00d7ff; text-decoration-color: #00d7ff\">None</span>, <span style=\"color: #00af00; text-decoration-color: #00af00\">128</span>)       │     <span style=\"color: #00af00; text-decoration-color: #00af00\">16,512</span> │ lstm_2[<span style=\"color: #00af00; text-decoration-color: #00af00\">0</span>][<span style=\"color: #00af00; text-decoration-color: #00af00\">0</span>]      │\n",
       "├─────────────────────┼───────────────────┼────────────┼───────────────────┤\n",
       "│ step (<span style=\"color: #0087ff; text-decoration-color: #0087ff\">Dense</span>)        │ (<span style=\"color: #00d7ff; text-decoration-color: #00d7ff\">None</span>, <span style=\"color: #00af00; text-decoration-color: #00af00\">1</span>)         │        <span style=\"color: #00af00; text-decoration-color: #00af00\">129</span> │ lstm_2[<span style=\"color: #00af00; text-decoration-color: #00af00\">0</span>][<span style=\"color: #00af00; text-decoration-color: #00af00\">0</span>]      │\n",
       "└─────────────────────┴───────────────────┴────────────┴───────────────────┘\n",
       "</pre>\n"
      ],
      "text/plain": [
       "┏━━━━━━━━━━━━━━━━━━━━━┳━━━━━━━━━━━━━━━━━━━┳━━━━━━━━━━━━┳━━━━━━━━━━━━━━━━━━━┓\n",
       "┃\u001b[1m \u001b[0m\u001b[1mLayer (type)       \u001b[0m\u001b[1m \u001b[0m┃\u001b[1m \u001b[0m\u001b[1mOutput Shape     \u001b[0m\u001b[1m \u001b[0m┃\u001b[1m \u001b[0m\u001b[1m   Param #\u001b[0m\u001b[1m \u001b[0m┃\u001b[1m \u001b[0m\u001b[1mConnected to     \u001b[0m\u001b[1m \u001b[0m┃\n",
       "┡━━━━━━━━━━━━━━━━━━━━━╇━━━━━━━━━━━━━━━━━━━╇━━━━━━━━━━━━╇━━━━━━━━━━━━━━━━━━━┩\n",
       "│ input_layer_2       │ (\u001b[38;5;45mNone\u001b[0m, \u001b[38;5;34m25\u001b[0m, \u001b[38;5;34m3\u001b[0m)     │          \u001b[38;5;34m0\u001b[0m │ -                 │\n",
       "│ (\u001b[38;5;33mInputLayer\u001b[0m)        │                   │            │                   │\n",
       "├─────────────────────┼───────────────────┼────────────┼───────────────────┤\n",
       "│ lstm_2 (\u001b[38;5;33mLSTM\u001b[0m)       │ (\u001b[38;5;45mNone\u001b[0m, \u001b[38;5;34m128\u001b[0m)       │     \u001b[38;5;34m67,584\u001b[0m │ input_layer_2[\u001b[38;5;34m0\u001b[0m]… │\n",
       "├─────────────────────┼───────────────────┼────────────┼───────────────────┤\n",
       "│ duration (\u001b[38;5;33mDense\u001b[0m)    │ (\u001b[38;5;45mNone\u001b[0m, \u001b[38;5;34m1\u001b[0m)         │        \u001b[38;5;34m129\u001b[0m │ lstm_2[\u001b[38;5;34m0\u001b[0m][\u001b[38;5;34m0\u001b[0m]      │\n",
       "├─────────────────────┼───────────────────┼────────────┼───────────────────┤\n",
       "│ pitch (\u001b[38;5;33mDense\u001b[0m)       │ (\u001b[38;5;45mNone\u001b[0m, \u001b[38;5;34m128\u001b[0m)       │     \u001b[38;5;34m16,512\u001b[0m │ lstm_2[\u001b[38;5;34m0\u001b[0m][\u001b[38;5;34m0\u001b[0m]      │\n",
       "├─────────────────────┼───────────────────┼────────────┼───────────────────┤\n",
       "│ step (\u001b[38;5;33mDense\u001b[0m)        │ (\u001b[38;5;45mNone\u001b[0m, \u001b[38;5;34m1\u001b[0m)         │        \u001b[38;5;34m129\u001b[0m │ lstm_2[\u001b[38;5;34m0\u001b[0m][\u001b[38;5;34m0\u001b[0m]      │\n",
       "└─────────────────────┴───────────────────┴────────────┴───────────────────┘\n"
      ]
     },
     "metadata": {},
     "output_type": "display_data"
    },
    {
     "data": {
      "text/html": [
       "<pre style=\"white-space:pre;overflow-x:auto;line-height:normal;font-family:Menlo,'DejaVu Sans Mono',consolas,'Courier New',monospace\"><span style=\"font-weight: bold\"> Total params: </span><span style=\"color: #00af00; text-decoration-color: #00af00\">84,354</span> (329.51 KB)\n",
       "</pre>\n"
      ],
      "text/plain": [
       "\u001b[1m Total params: \u001b[0m\u001b[38;5;34m84,354\u001b[0m (329.51 KB)\n"
      ]
     },
     "metadata": {},
     "output_type": "display_data"
    },
    {
     "data": {
      "text/html": [
       "<pre style=\"white-space:pre;overflow-x:auto;line-height:normal;font-family:Menlo,'DejaVu Sans Mono',consolas,'Courier New',monospace\"><span style=\"font-weight: bold\"> Trainable params: </span><span style=\"color: #00af00; text-decoration-color: #00af00\">84,354</span> (329.51 KB)\n",
       "</pre>\n"
      ],
      "text/plain": [
       "\u001b[1m Trainable params: \u001b[0m\u001b[38;5;34m84,354\u001b[0m (329.51 KB)\n"
      ]
     },
     "metadata": {},
     "output_type": "display_data"
    },
    {
     "data": {
      "text/html": [
       "<pre style=\"white-space:pre;overflow-x:auto;line-height:normal;font-family:Menlo,'DejaVu Sans Mono',consolas,'Courier New',monospace\"><span style=\"font-weight: bold\"> Non-trainable params: </span><span style=\"color: #00af00; text-decoration-color: #00af00\">0</span> (0.00 B)\n",
       "</pre>\n"
      ],
      "text/plain": [
       "\u001b[1m Non-trainable params: \u001b[0m\u001b[38;5;34m0\u001b[0m (0.00 B)\n"
      ]
     },
     "metadata": {},
     "output_type": "display_data"
    }
   ],
   "source": [
    "# Developing the model\n",
    "\n",
    "input_shape = (seq_length, 3)\n",
    "learning_rate = 0.005\n",
    "\n",
    "inputs = tf.keras.Input(input_shape)\n",
    "x = tf.keras.layers.LSTM(128)(inputs)\n",
    "\n",
    "outputs = {'pitch': tf.keras.layers.Dense(128, name='pitch')(x),\n",
    "           'step': tf.keras.layers.Dense(1, name='step')(x),\n",
    "           'duration': tf.keras.layers.Dense(1, name='duration')(x),\n",
    "          }\n",
    "\n",
    "model = tf.keras.Model(inputs, outputs)\n",
    "\n",
    "\n",
    "loss = {'pitch': tf.keras.losses.SparseCategoricalCrossentropy(from_logits=True),\n",
    "        'step': tf.keras.losses.mse,\n",
    "        'duration': tf.keras.losses.mse,\n",
    "       }\n",
    "\n",
    "optimizer = tf.keras.optimizers.Adam(learning_rate=learning_rate)\n",
    "\n",
    "model.compile(loss=loss, optimizer=optimizer)\n",
    "\n",
    "model.summary()"
   ]
  },
  {
   "cell_type": "code",
   "execution_count": null,
   "id": "84216f36",
   "metadata": {},
   "outputs": [
    {
     "name": "stdout",
     "output_type": "stream",
     "text": [
      "<_PrefetchDataset element_spec=(TensorSpec(shape=(64, 25, 3), dtype=tf.float64, name=None), {'pitch': TensorSpec(shape=(64,), dtype=tf.float64, name=None), 'step': TensorSpec(shape=(64,), dtype=tf.float64, name=None), 'duration': TensorSpec(shape=(64,), dtype=tf.float64, name=None)})>\n",
      "Epoch 1/50\n",
      "\u001b[1m108/108\u001b[0m \u001b[32m━━━━━━━━━━━━━━━━━━━━\u001b[0m\u001b[37m\u001b[0m \u001b[1m5s\u001b[0m 24ms/step - duration_loss: 0.0461 - loss: 2.4862 - pitch_loss: 4.3045 - step_loss: 2.2249\n",
      "Epoch 2/50\n",
      "\u001b[1m108/108\u001b[0m \u001b[32m━━━━━━━━━━━━━━━━━━━━\u001b[0m\u001b[37m\u001b[0m \u001b[1m3s\u001b[0m 23ms/step - duration_loss: 0.0276 - loss: 2.3986 - pitch_loss: 3.4373 - step_loss: 2.1991\n",
      "Epoch 3/50\n",
      "\u001b[1m108/108\u001b[0m \u001b[32m━━━━━━━━━━━━━━━━━━━━\u001b[0m\u001b[37m\u001b[0m \u001b[1m2s\u001b[0m 20ms/step - duration_loss: 0.0260 - loss: 2.3873 - pitch_loss: 3.3694 - step_loss: 2.1928\n",
      "Epoch 4/50\n",
      "\u001b[1m108/108\u001b[0m \u001b[32m━━━━━━━━━━━━━━━━━━━━\u001b[0m\u001b[37m\u001b[0m \u001b[1m2s\u001b[0m 20ms/step - duration_loss: 0.0256 - loss: 2.3810 - pitch_loss: 3.3352 - step_loss: 2.1886\n",
      "Epoch 5/50\n",
      "\u001b[1m108/108\u001b[0m \u001b[32m━━━━━━━━━━━━━━━━━━━━\u001b[0m\u001b[37m\u001b[0m \u001b[1m2s\u001b[0m 20ms/step - duration_loss: 0.0259 - loss: 2.3753 - pitch_loss: 3.3064 - step_loss: 2.1841\n",
      "Epoch 6/50\n",
      "\u001b[1m108/108\u001b[0m \u001b[32m━━━━━━━━━━━━━━━━━━━━\u001b[0m\u001b[37m\u001b[0m \u001b[1m2s\u001b[0m 19ms/step - duration_loss: 0.0254 - loss: 2.3714 - pitch_loss: 3.2725 - step_loss: 2.1823\n",
      "Epoch 7/50\n",
      "\u001b[1m108/108\u001b[0m \u001b[32m━━━━━━━━━━━━━━━━━━━━\u001b[0m\u001b[37m\u001b[0m \u001b[1m2s\u001b[0m 20ms/step - duration_loss: 0.0246 - loss: 2.3695 - pitch_loss: 3.2775 - step_loss: 2.1810\n",
      "Epoch 8/50\n",
      "\u001b[1m108/108\u001b[0m \u001b[32m━━━━━━━━━━━━━━━━━━━━\u001b[0m\u001b[37m\u001b[0m \u001b[1m2s\u001b[0m 20ms/step - duration_loss: 0.0250 - loss: 2.3745 - pitch_loss: 3.2971 - step_loss: 2.1846\n",
      "Epoch 9/50\n",
      "\u001b[1m108/108\u001b[0m \u001b[32m━━━━━━━━━━━━━━━━━━━━\u001b[0m\u001b[37m\u001b[0m \u001b[1m2s\u001b[0m 20ms/step - duration_loss: 0.0238 - loss: 2.3654 - pitch_loss: 3.2542 - step_loss: 2.1789\n",
      "Epoch 10/50\n",
      "\u001b[1m108/108\u001b[0m \u001b[32m━━━━━━━━━━━━━━━━━━━━\u001b[0m\u001b[37m\u001b[0m \u001b[1m2s\u001b[0m 20ms/step - duration_loss: 0.0234 - loss: 2.3615 - pitch_loss: 3.2256 - step_loss: 2.1769\n",
      "Epoch 11/50\n",
      "\u001b[1m108/108\u001b[0m \u001b[32m━━━━━━━━━━━━━━━━━━━━\u001b[0m\u001b[37m\u001b[0m \u001b[1m2s\u001b[0m 20ms/step - duration_loss: 0.0239 - loss: 2.3590 - pitch_loss: 3.1875 - step_loss: 2.1756\n",
      "Epoch 12/50\n",
      "\u001b[1m108/108\u001b[0m \u001b[32m━━━━━━━━━━━━━━━━━━━━\u001b[0m\u001b[37m\u001b[0m \u001b[1m2s\u001b[0m 21ms/step - duration_loss: 0.0226 - loss: 2.3564 - pitch_loss: 3.1862 - step_loss: 2.1745\n",
      "Epoch 13/50\n",
      "\u001b[1m108/108\u001b[0m \u001b[32m━━━━━━━━━━━━━━━━━━━━\u001b[0m\u001b[37m\u001b[0m \u001b[1m2s\u001b[0m 20ms/step - duration_loss: 0.0244 - loss: 2.3591 - pitch_loss: 3.1859 - step_loss: 2.1754\n",
      "Epoch 14/50\n",
      "\u001b[1m108/108\u001b[0m \u001b[32m━━━━━━━━━━━━━━━━━━━━\u001b[0m\u001b[37m\u001b[0m \u001b[1m2s\u001b[0m 20ms/step - duration_loss: 0.0223 - loss: 2.3613 - pitch_loss: 3.2260 - step_loss: 2.1776\n",
      "Epoch 15/50\n",
      "\u001b[1m108/108\u001b[0m \u001b[32m━━━━━━━━━━━━━━━━━━━━\u001b[0m\u001b[37m\u001b[0m \u001b[1m2s\u001b[0m 21ms/step - duration_loss: 0.0215 - loss: 2.3507 - pitch_loss: 3.1459 - step_loss: 2.1719\n",
      "Epoch 16/50\n",
      "\u001b[1m108/108\u001b[0m \u001b[32m━━━━━━━━━━━━━━━━━━━━\u001b[0m\u001b[37m\u001b[0m \u001b[1m2s\u001b[0m 21ms/step - duration_loss: 0.0213 - loss: 2.3520 - pitch_loss: 3.1437 - step_loss: 2.1735\n",
      "Epoch 17/50\n",
      "\u001b[1m108/108\u001b[0m \u001b[32m━━━━━━━━━━━━━━━━━━━━\u001b[0m\u001b[37m\u001b[0m \u001b[1m2s\u001b[0m 20ms/step - duration_loss: 0.0211 - loss: 2.3358 - pitch_loss: 3.0564 - step_loss: 2.1618\n",
      "Epoch 18/50\n",
      "\u001b[1m108/108\u001b[0m \u001b[32m━━━━━━━━━━━━━━━━━━━━\u001b[0m\u001b[37m\u001b[0m \u001b[1m2s\u001b[0m 22ms/step - duration_loss: 0.0214 - loss: 2.3497 - pitch_loss: 3.1533 - step_loss: 2.1706\n",
      "Epoch 19/50\n",
      "\u001b[1m108/108\u001b[0m \u001b[32m━━━━━━━━━━━━━━━━━━━━\u001b[0m\u001b[37m\u001b[0m \u001b[1m2s\u001b[0m 21ms/step - duration_loss: 0.0205 - loss: 2.3417 - pitch_loss: 3.0966 - step_loss: 2.1664\n",
      "Epoch 20/50\n",
      "\u001b[1m108/108\u001b[0m \u001b[32m━━━━━━━━━━━━━━━━━━━━\u001b[0m\u001b[37m\u001b[0m \u001b[1m2s\u001b[0m 19ms/step - duration_loss: 0.0219 - loss: 2.3369 - pitch_loss: 3.0028 - step_loss: 2.1649\n",
      "Epoch 21/50\n",
      "\u001b[1m108/108\u001b[0m \u001b[32m━━━━━━━━━━━━━━━━━━━━\u001b[0m\u001b[37m\u001b[0m \u001b[1m2s\u001b[0m 19ms/step - duration_loss: 0.0203 - loss: 2.3395 - pitch_loss: 2.9709 - step_loss: 2.1706\n",
      "Epoch 22/50\n",
      "\u001b[1m108/108\u001b[0m \u001b[32m━━━━━━━━━━━━━━━━━━━━\u001b[0m\u001b[37m\u001b[0m \u001b[1m2s\u001b[0m 19ms/step - duration_loss: 0.0187 - loss: 2.3246 - pitch_loss: 2.9917 - step_loss: 2.1563\n",
      "Epoch 23/50\n",
      "\u001b[1m108/108\u001b[0m \u001b[32m━━━━━━━━━━━━━━━━━━━━\u001b[0m\u001b[37m\u001b[0m \u001b[1m2s\u001b[0m 22ms/step - duration_loss: 0.0195 - loss: 2.3321 - pitch_loss: 2.8985 - step_loss: 2.1677\n",
      "Epoch 24/50\n",
      "\u001b[1m108/108\u001b[0m \u001b[32m━━━━━━━━━━━━━━━━━━━━\u001b[0m\u001b[37m\u001b[0m \u001b[1m2s\u001b[0m 20ms/step - duration_loss: 0.0207 - loss: 2.3285 - pitch_loss: 2.8674 - step_loss: 2.1644\n",
      "Epoch 25/50\n",
      "\u001b[1m108/108\u001b[0m \u001b[32m━━━━━━━━━━━━━━━━━━━━\u001b[0m\u001b[37m\u001b[0m \u001b[1m2s\u001b[0m 22ms/step - duration_loss: 0.0182 - loss: 2.3137 - pitch_loss: 2.8072 - step_loss: 2.1551\n",
      "Epoch 26/50\n",
      "\u001b[1m108/108\u001b[0m \u001b[32m━━━━━━━━━━━━━━━━━━━━\u001b[0m\u001b[37m\u001b[0m \u001b[1m3s\u001b[0m 30ms/step - duration_loss: 0.0178 - loss: 2.3136 - pitch_loss: 2.7976 - step_loss: 2.1559\n",
      "Epoch 27/50\n",
      "\u001b[1m108/108\u001b[0m \u001b[32m━━━━━━━━━━━━━━━━━━━━\u001b[0m\u001b[37m\u001b[0m \u001b[1m3s\u001b[0m 25ms/step - duration_loss: 0.0186 - loss: 2.3290 - pitch_loss: 2.9990 - step_loss: 2.1605\n",
      "Epoch 28/50\n",
      "\u001b[1m108/108\u001b[0m \u001b[32m━━━━━━━━━━━━━━━━━━━━\u001b[0m\u001b[37m\u001b[0m \u001b[1m2s\u001b[0m 22ms/step - duration_loss: 0.0223 - loss: 2.3540 - pitch_loss: 3.0952 - step_loss: 2.1769\n",
      "Epoch 29/50\n",
      "\u001b[1m108/108\u001b[0m \u001b[32m━━━━━━━━━━━━━━━━━━━━\u001b[0m\u001b[37m\u001b[0m \u001b[1m3s\u001b[0m 29ms/step - duration_loss: 0.0194 - loss: 2.3265 - pitch_loss: 2.9615 - step_loss: 2.1591\n",
      "Epoch 30/50\n",
      "\u001b[1m108/108\u001b[0m \u001b[32m━━━━━━━━━━━━━━━━━━━━\u001b[0m\u001b[37m\u001b[0m \u001b[1m3s\u001b[0m 28ms/step - duration_loss: 0.0194 - loss: 2.3289 - pitch_loss: 2.9440 - step_loss: 2.1624\n",
      "Epoch 31/50\n",
      "\u001b[1m108/108\u001b[0m \u001b[32m━━━━━━━━━━━━━━━━━━━━\u001b[0m\u001b[37m\u001b[0m \u001b[1m3s\u001b[0m 30ms/step - duration_loss: 0.0181 - loss: 2.3126 - pitch_loss: 2.9067 - step_loss: 2.1491\n",
      "Epoch 32/50\n",
      "\u001b[1m108/108\u001b[0m \u001b[32m━━━━━━━━━━━━━━━━━━━━\u001b[0m\u001b[37m\u001b[0m \u001b[1m3s\u001b[0m 26ms/step - duration_loss: 0.0185 - loss: 2.3087 - pitch_loss: 2.9645 - step_loss: 2.1420\n",
      "Epoch 33/50\n",
      "\u001b[1m108/108\u001b[0m \u001b[32m━━━━━━━━━━━━━━━━━━━━\u001b[0m\u001b[37m\u001b[0m \u001b[1m2s\u001b[0m 22ms/step - duration_loss: 0.0182 - loss: 2.3098 - pitch_loss: 2.9413 - step_loss: 2.1446\n",
      "Epoch 34/50\n",
      "\u001b[1m108/108\u001b[0m \u001b[32m━━━━━━━━━━━━━━━━━━━━\u001b[0m\u001b[37m\u001b[0m \u001b[1m2s\u001b[0m 22ms/step - duration_loss: 0.0194 - loss: 2.3197 - pitch_loss: 3.0232 - step_loss: 2.1491\n",
      "Epoch 35/50\n",
      "\u001b[1m108/108\u001b[0m \u001b[32m━━━━━━━━━━━━━━━━━━━━\u001b[0m\u001b[37m\u001b[0m \u001b[1m2s\u001b[0m 23ms/step - duration_loss: 0.0285 - loss: 2.3953 - pitch_loss: 3.1284 - step_loss: 2.2104\n",
      "Epoch 36/50\n",
      "\u001b[1m108/108\u001b[0m \u001b[32m━━━━━━━━━━━━━━━━━━━━\u001b[0m\u001b[37m\u001b[0m \u001b[1m3s\u001b[0m 30ms/step - duration_loss: 0.0229 - loss: 2.3502 - pitch_loss: 3.0585 - step_loss: 2.1743\n",
      "Epoch 37/50\n",
      "\u001b[1m108/108\u001b[0m \u001b[32m━━━━━━━━━━━━━━━━━━━━\u001b[0m\u001b[37m\u001b[0m \u001b[1m4s\u001b[0m 36ms/step - duration_loss: 0.0188 - loss: 2.3212 - pitch_loss: 2.9767 - step_loss: 2.1536\n",
      "Epoch 38/50\n",
      "\u001b[1m108/108\u001b[0m \u001b[32m━━━━━━━━━━━━━━━━━━━━\u001b[0m\u001b[37m\u001b[0m \u001b[1m4s\u001b[0m 37ms/step - duration_loss: 0.0179 - loss: 2.2988 - pitch_loss: 2.9021 - step_loss: 2.1359\n",
      "Epoch 39/50\n",
      "\u001b[1m108/108\u001b[0m \u001b[32m━━━━━━━━━━━━━━━━━━━━\u001b[0m\u001b[37m\u001b[0m \u001b[1m4s\u001b[0m 36ms/step - duration_loss: 0.0175 - loss: 2.2912 - pitch_loss: 2.8195 - step_loss: 2.1328\n",
      "Epoch 40/50\n",
      "\u001b[1m108/108\u001b[0m \u001b[32m━━━━━━━━━━━━━━━━━━━━\u001b[0m\u001b[37m\u001b[0m \u001b[1m4s\u001b[0m 37ms/step - duration_loss: 0.0176 - loss: 2.2805 - pitch_loss: 2.7506 - step_loss: 2.1254\n",
      "Epoch 41/50\n",
      "\u001b[1m108/108\u001b[0m \u001b[32m━━━━━━━━━━━━━━━━━━━━\u001b[0m\u001b[37m\u001b[0m \u001b[1m4s\u001b[0m 38ms/step - duration_loss: 0.0175 - loss: 2.2854 - pitch_loss: 2.7971 - step_loss: 2.1280\n",
      "Epoch 42/50\n",
      "\u001b[1m108/108\u001b[0m \u001b[32m━━━━━━━━━━━━━━━━━━━━\u001b[0m\u001b[37m\u001b[0m \u001b[1m4s\u001b[0m 38ms/step - duration_loss: 0.0175 - loss: 2.2865 - pitch_loss: 2.9402 - step_loss: 2.1219\n",
      "Epoch 43/50\n",
      "\u001b[1m108/108\u001b[0m \u001b[32m━━━━━━━━━━━━━━━━━━━━\u001b[0m\u001b[37m\u001b[0m \u001b[1m4s\u001b[0m 37ms/step - duration_loss: 0.0175 - loss: 2.2913 - pitch_loss: 2.8981 - step_loss: 2.1288\n",
      "Epoch 44/50\n",
      "\u001b[1m108/108\u001b[0m \u001b[32m━━━━━━━━━━━━━━━━━━━━\u001b[0m\u001b[37m\u001b[0m \u001b[1m4s\u001b[0m 38ms/step - duration_loss: 0.0170 - loss: 2.2704 - pitch_loss: 2.8710 - step_loss: 2.1098\n",
      "Epoch 45/50\n",
      "\u001b[1m108/108\u001b[0m \u001b[32m━━━━━━━━━━━━━━━━━━━━\u001b[0m\u001b[37m\u001b[0m \u001b[1m4s\u001b[0m 33ms/step - duration_loss: 0.0172 - loss: 2.2933 - pitch_loss: 2.8636 - step_loss: 2.1329\n",
      "Epoch 46/50\n",
      "\u001b[1m108/108\u001b[0m \u001b[32m━━━━━━━━━━━━━━━━━━━━\u001b[0m\u001b[37m\u001b[0m \u001b[1m2s\u001b[0m 22ms/step - duration_loss: 0.0170 - loss: 2.2708 - pitch_loss: 2.7897 - step_loss: 2.1143\n",
      "Epoch 47/50\n",
      "\u001b[1m108/108\u001b[0m \u001b[32m━━━━━━━━━━━━━━━━━━━━\u001b[0m\u001b[37m\u001b[0m \u001b[1m2s\u001b[0m 21ms/step - duration_loss: 0.0221 - loss: 2.3290 - pitch_loss: 3.0578 - step_loss: 2.1540\n",
      "Epoch 48/50\n",
      "\u001b[1m108/108\u001b[0m \u001b[32m━━━━━━━━━━━━━━━━━━━━\u001b[0m\u001b[37m\u001b[0m \u001b[1m2s\u001b[0m 20ms/step - duration_loss: 0.0187 - loss: 2.2960 - pitch_loss: 2.8744 - step_loss: 2.1335\n",
      "Epoch 49/50\n",
      "\u001b[1m108/108\u001b[0m \u001b[32m━━━━━━━━━━━━━━━━━━━━\u001b[0m\u001b[37m\u001b[0m \u001b[1m2s\u001b[0m 20ms/step - duration_loss: 0.0182 - loss: 2.2957 - pitch_loss: 2.8172 - step_loss: 2.1366\n",
      "Epoch 50/50\n",
      "\u001b[1m108/108\u001b[0m \u001b[32m━━━━━━━━━━━━━━━━━━━━\u001b[0m\u001b[37m\u001b[0m \u001b[1m2s\u001b[0m 20ms/step - duration_loss: 0.0176 - loss: 2.2720 - pitch_loss: 2.8641 - step_loss: 2.1112\n"
     ]
    }
   ],
   "source": [
    "# Compiling and fitting the model\n",
    "\n",
    "model.compile(loss = loss, \n",
    "              loss_weights = {'pitch': 0.05, 'step': 1.0, 'duration':1.0,},\n",
    "              optimizer = optimizer,)\n",
    "\n",
    "epochs = 50\n",
    "print(train_ds)\n",
    "history = model.fit(train_ds, \n",
    "                 epochs=epochs)\n",
    "\n"
   ]
  },
  {
   "cell_type": "code",
   "execution_count": null,
   "id": "29e53dab",
   "metadata": {},
   "outputs": [],
   "source": [
    "#model.save('./models/pitch-model-Classic-Classifier.keras')"
   ]
  },
  {
   "cell_type": "markdown",
   "id": "0dca718d",
   "metadata": {},
   "source": [
    "### Model with intervall encoding"
   ]
  },
  {
   "cell_type": "code",
   "execution_count": 6,
   "id": "10cf2dbc",
   "metadata": {},
   "outputs": [
    {
     "name": "stdout",
     "output_type": "stream",
     "text": [
      "10\n"
     ]
    },
    {
     "name": "stderr",
     "output_type": "stream",
     "text": [
      "C:\\Users\\cavas\\AppData\\Local\\Temp\\ipykernel_13320\\4157772438.py:12: FutureWarning: DataFrame.applymap has been deprecated. Use DataFrame.map instead.\n",
      "  extracted_data = df_x.applymap(lambda x: x if isinstance(x, list) else [])\n",
      "C:\\Users\\cavas\\AppData\\Local\\Temp\\ipykernel_13320\\4157772438.py:14: FutureWarning: DataFrame.applymap has been deprecated. Use DataFrame.map instead.\n",
      "  extracted_data = df_y.applymap(lambda x: x if isinstance(x, list) else [])\n"
     ]
    },
    {
     "name": "stdout",
     "output_type": "stream",
     "text": [
      "(139444, 1, 4)\n"
     ]
    }
   ],
   "source": [
    "\n",
    "with open(\"dataset.pkl\", \"rb\") as f:\n",
    "    df_x = pickle.load(f)\n",
    "\n",
    "with open(\"dataset_target.pkl\", \"rb\") as f:\n",
    "    df_y = pickle.load(f)\n",
    "\n",
    "\n",
    "\n",
    "seq_length = df_x.shape[1]\n",
    "print(seq_length)\n",
    "vocab_size = 300\n",
    "extracted_data = df_x.applymap(lambda x: x if isinstance(x, list) else [])\n",
    "X_train = np.array(extracted_data.values.tolist())\n",
    "extracted_data = df_y.applymap(lambda x: x if isinstance(x, list) else [])\n",
    "df_y = np.array(extracted_data.values.tolist())\n",
    "print(df_y.shape)"
   ]
  },
  {
   "cell_type": "code",
   "execution_count": 7,
   "id": "f2da08a1",
   "metadata": {},
   "outputs": [
    {
     "name": "stdout",
     "output_type": "stream",
     "text": [
      "139444 4\n"
     ]
    },
    {
     "data": {
      "text/plain": [
       "-4"
      ]
     },
     "execution_count": 7,
     "metadata": {},
     "output_type": "execute_result"
    }
   ],
   "source": [
    "#single value\n",
    "intervall = []\n",
    "diff = []\n",
    "step = []\n",
    "duration = []\n",
    "# Assuming df_y is a list of lists, where each inner list contains tuples or lists\n",
    "for i in range(df_y.shape[1]):\n",
    "    for lista in df_y:\n",
    "        for valore in lista:\n",
    "                intervall.append(valore[0])\n",
    "                diff.append(valore[1])\n",
    "                step.append(valore[2])\n",
    "                duration.append(valore[3])\n",
    "y_train_e = {\n",
    "    'intervall': intervall,\n",
    "    'diff': diff,\n",
    "    'step': step,\n",
    "    'duration': duration\n",
    "}\n",
    "y_train_e=pd.DataFrame(y_train_e)\n",
    "\n",
    "#n_notes = df.size\n",
    "batch_size = 64\n",
    "\n",
    "print(y_train_e.shape[0],y_train_e.shape[1])\n",
    "y_train_e['diff'].min()"
   ]
  },
  {
   "cell_type": "code",
   "execution_count": null,
   "id": "c9efdcc0",
   "metadata": {},
   "outputs": [
    {
     "data": {
      "text/html": [
       "<pre style=\"white-space:pre;overflow-x:auto;line-height:normal;font-family:Menlo,'DejaVu Sans Mono',consolas,'Courier New',monospace\"><span style=\"font-weight: bold\">Model: \"functional\"</span>\n",
       "</pre>\n"
      ],
      "text/plain": [
       "\u001b[1mModel: \"functional\"\u001b[0m\n"
      ]
     },
     "metadata": {},
     "output_type": "display_data"
    },
    {
     "data": {
      "text/html": [
       "<pre style=\"white-space:pre;overflow-x:auto;line-height:normal;font-family:Menlo,'DejaVu Sans Mono',consolas,'Courier New',monospace\">┏━━━━━━━━━━━━━━━━━━━━━┳━━━━━━━━━━━━━━━━━━━┳━━━━━━━━━━━━┳━━━━━━━━━━━━━━━━━━━┓\n",
       "┃<span style=\"font-weight: bold\"> Layer (type)        </span>┃<span style=\"font-weight: bold\"> Output Shape      </span>┃<span style=\"font-weight: bold\">    Param # </span>┃<span style=\"font-weight: bold\"> Connected to      </span>┃\n",
       "┡━━━━━━━━━━━━━━━━━━━━━╇━━━━━━━━━━━━━━━━━━━╇━━━━━━━━━━━━╇━━━━━━━━━━━━━━━━━━━┩\n",
       "│ input_layer         │ (<span style=\"color: #00d7ff; text-decoration-color: #00d7ff\">None</span>, <span style=\"color: #00af00; text-decoration-color: #00af00\">10</span>, <span style=\"color: #00af00; text-decoration-color: #00af00\">4</span>)     │          <span style=\"color: #00af00; text-decoration-color: #00af00\">0</span> │ -                 │\n",
       "│ (<span style=\"color: #0087ff; text-decoration-color: #0087ff\">InputLayer</span>)        │                   │            │                   │\n",
       "├─────────────────────┼───────────────────┼────────────┼───────────────────┤\n",
       "│ lstm (<span style=\"color: #0087ff; text-decoration-color: #0087ff\">LSTM</span>)         │ (<span style=\"color: #00d7ff; text-decoration-color: #00d7ff\">None</span>, <span style=\"color: #00af00; text-decoration-color: #00af00\">128</span>)       │     <span style=\"color: #00af00; text-decoration-color: #00af00\">68,096</span> │ input_layer[<span style=\"color: #00af00; text-decoration-color: #00af00\">0</span>][<span style=\"color: #00af00; text-decoration-color: #00af00\">0</span>] │\n",
       "├─────────────────────┼───────────────────┼────────────┼───────────────────┤\n",
       "│ diff (<span style=\"color: #0087ff; text-decoration-color: #0087ff\">Dense</span>)        │ (<span style=\"color: #00d7ff; text-decoration-color: #00d7ff\">None</span>, <span style=\"color: #00af00; text-decoration-color: #00af00\">9</span>)         │      <span style=\"color: #00af00; text-decoration-color: #00af00\">1,161</span> │ lstm[<span style=\"color: #00af00; text-decoration-color: #00af00\">0</span>][<span style=\"color: #00af00; text-decoration-color: #00af00\">0</span>]        │\n",
       "├─────────────────────┼───────────────────┼────────────┼───────────────────┤\n",
       "│ duration (<span style=\"color: #0087ff; text-decoration-color: #0087ff\">Dense</span>)    │ (<span style=\"color: #00d7ff; text-decoration-color: #00d7ff\">None</span>, <span style=\"color: #00af00; text-decoration-color: #00af00\">300</span>)       │     <span style=\"color: #00af00; text-decoration-color: #00af00\">38,700</span> │ lstm[<span style=\"color: #00af00; text-decoration-color: #00af00\">0</span>][<span style=\"color: #00af00; text-decoration-color: #00af00\">0</span>]        │\n",
       "├─────────────────────┼───────────────────┼────────────┼───────────────────┤\n",
       "│ intervall (<span style=\"color: #0087ff; text-decoration-color: #0087ff\">Dense</span>)   │ (<span style=\"color: #00d7ff; text-decoration-color: #00d7ff\">None</span>, <span style=\"color: #00af00; text-decoration-color: #00af00\">12</span>)        │      <span style=\"color: #00af00; text-decoration-color: #00af00\">1,548</span> │ lstm[<span style=\"color: #00af00; text-decoration-color: #00af00\">0</span>][<span style=\"color: #00af00; text-decoration-color: #00af00\">0</span>]        │\n",
       "├─────────────────────┼───────────────────┼────────────┼───────────────────┤\n",
       "│ step (<span style=\"color: #0087ff; text-decoration-color: #0087ff\">Dense</span>)        │ (<span style=\"color: #00d7ff; text-decoration-color: #00d7ff\">None</span>, <span style=\"color: #00af00; text-decoration-color: #00af00\">300</span>)       │     <span style=\"color: #00af00; text-decoration-color: #00af00\">38,700</span> │ lstm[<span style=\"color: #00af00; text-decoration-color: #00af00\">0</span>][<span style=\"color: #00af00; text-decoration-color: #00af00\">0</span>]        │\n",
       "└─────────────────────┴───────────────────┴────────────┴───────────────────┘\n",
       "</pre>\n"
      ],
      "text/plain": [
       "┏━━━━━━━━━━━━━━━━━━━━━┳━━━━━━━━━━━━━━━━━━━┳━━━━━━━━━━━━┳━━━━━━━━━━━━━━━━━━━┓\n",
       "┃\u001b[1m \u001b[0m\u001b[1mLayer (type)       \u001b[0m\u001b[1m \u001b[0m┃\u001b[1m \u001b[0m\u001b[1mOutput Shape     \u001b[0m\u001b[1m \u001b[0m┃\u001b[1m \u001b[0m\u001b[1m   Param #\u001b[0m\u001b[1m \u001b[0m┃\u001b[1m \u001b[0m\u001b[1mConnected to     \u001b[0m\u001b[1m \u001b[0m┃\n",
       "┡━━━━━━━━━━━━━━━━━━━━━╇━━━━━━━━━━━━━━━━━━━╇━━━━━━━━━━━━╇━━━━━━━━━━━━━━━━━━━┩\n",
       "│ input_layer         │ (\u001b[38;5;45mNone\u001b[0m, \u001b[38;5;34m10\u001b[0m, \u001b[38;5;34m4\u001b[0m)     │          \u001b[38;5;34m0\u001b[0m │ -                 │\n",
       "│ (\u001b[38;5;33mInputLayer\u001b[0m)        │                   │            │                   │\n",
       "├─────────────────────┼───────────────────┼────────────┼───────────────────┤\n",
       "│ lstm (\u001b[38;5;33mLSTM\u001b[0m)         │ (\u001b[38;5;45mNone\u001b[0m, \u001b[38;5;34m128\u001b[0m)       │     \u001b[38;5;34m68,096\u001b[0m │ input_layer[\u001b[38;5;34m0\u001b[0m][\u001b[38;5;34m0\u001b[0m] │\n",
       "├─────────────────────┼───────────────────┼────────────┼───────────────────┤\n",
       "│ diff (\u001b[38;5;33mDense\u001b[0m)        │ (\u001b[38;5;45mNone\u001b[0m, \u001b[38;5;34m9\u001b[0m)         │      \u001b[38;5;34m1,161\u001b[0m │ lstm[\u001b[38;5;34m0\u001b[0m][\u001b[38;5;34m0\u001b[0m]        │\n",
       "├─────────────────────┼───────────────────┼────────────┼───────────────────┤\n",
       "│ duration (\u001b[38;5;33mDense\u001b[0m)    │ (\u001b[38;5;45mNone\u001b[0m, \u001b[38;5;34m300\u001b[0m)       │     \u001b[38;5;34m38,700\u001b[0m │ lstm[\u001b[38;5;34m0\u001b[0m][\u001b[38;5;34m0\u001b[0m]        │\n",
       "├─────────────────────┼───────────────────┼────────────┼───────────────────┤\n",
       "│ intervall (\u001b[38;5;33mDense\u001b[0m)   │ (\u001b[38;5;45mNone\u001b[0m, \u001b[38;5;34m12\u001b[0m)        │      \u001b[38;5;34m1,548\u001b[0m │ lstm[\u001b[38;5;34m0\u001b[0m][\u001b[38;5;34m0\u001b[0m]        │\n",
       "├─────────────────────┼───────────────────┼────────────┼───────────────────┤\n",
       "│ step (\u001b[38;5;33mDense\u001b[0m)        │ (\u001b[38;5;45mNone\u001b[0m, \u001b[38;5;34m300\u001b[0m)       │     \u001b[38;5;34m38,700\u001b[0m │ lstm[\u001b[38;5;34m0\u001b[0m][\u001b[38;5;34m0\u001b[0m]        │\n",
       "└─────────────────────┴───────────────────┴────────────┴───────────────────┘\n"
      ]
     },
     "metadata": {},
     "output_type": "display_data"
    },
    {
     "data": {
      "text/html": [
       "<pre style=\"white-space:pre;overflow-x:auto;line-height:normal;font-family:Menlo,'DejaVu Sans Mono',consolas,'Courier New',monospace\"><span style=\"font-weight: bold\"> Total params: </span><span style=\"color: #00af00; text-decoration-color: #00af00\">148,205</span> (578.93 KB)\n",
       "</pre>\n"
      ],
      "text/plain": [
       "\u001b[1m Total params: \u001b[0m\u001b[38;5;34m148,205\u001b[0m (578.93 KB)\n"
      ]
     },
     "metadata": {},
     "output_type": "display_data"
    },
    {
     "data": {
      "text/html": [
       "<pre style=\"white-space:pre;overflow-x:auto;line-height:normal;font-family:Menlo,'DejaVu Sans Mono',consolas,'Courier New',monospace\"><span style=\"font-weight: bold\"> Trainable params: </span><span style=\"color: #00af00; text-decoration-color: #00af00\">148,205</span> (578.93 KB)\n",
       "</pre>\n"
      ],
      "text/plain": [
       "\u001b[1m Trainable params: \u001b[0m\u001b[38;5;34m148,205\u001b[0m (578.93 KB)\n"
      ]
     },
     "metadata": {},
     "output_type": "display_data"
    },
    {
     "data": {
      "text/html": [
       "<pre style=\"white-space:pre;overflow-x:auto;line-height:normal;font-family:Menlo,'DejaVu Sans Mono',consolas,'Courier New',monospace\"><span style=\"font-weight: bold\"> Non-trainable params: </span><span style=\"color: #00af00; text-decoration-color: #00af00\">0</span> (0.00 B)\n",
       "</pre>\n"
      ],
      "text/plain": [
       "\u001b[1m Non-trainable params: \u001b[0m\u001b[38;5;34m0\u001b[0m (0.00 B)\n"
      ]
     },
     "metadata": {},
     "output_type": "display_data"
    }
   ],
   "source": [
    "# Developing the model\n",
    "input_shape = (X_train.shape[1],X_train.shape[2])\n",
    "learning_rate = 0.005\n",
    "num_classes_intervall=12\n",
    "\n",
    "inputs = tf.keras.Input(shape=input_shape)\n",
    "x = tf.keras.layers.LSTM(128)(inputs)\n",
    "\n",
    "outputs = {'intervall': tf.keras.layers.Dense(num_classes_intervall,name='intervall')(x),\n",
    "           'diff': tf.keras.layers.Dense(9,activation='softmax', name='diff')(x),\n",
    "           'step': tf.keras.layers.Dense(300,activation='softmax', name='step')(x),\n",
    "           'duration': tf.keras.layers.Dense(300,activation='softmax', name='duration')(x),\n",
    "          }\n",
    "\n",
    "model = tf.keras.Model(inputs, outputs)\n",
    "\n",
    "loss = {'intervall': tf.keras.losses.SparseCategoricalCrossentropy(from_logits=True),\n",
    "        'diff': tf.keras.losses.CategoricalCrossentropy(),\n",
    "        'step': tf.keras.losses.CategoricalCrossentropy(),\n",
    "        'duration': tf.keras.losses.CategoricalCrossentropy(),\n",
    "       }\n",
    "\n",
    "optimizer = tf.keras.optimizers.Adam(learning_rate=learning_rate)\n",
    "\n",
    "metrics = {    \n",
    "    'intervall': ['accuracy'],\n",
    "    'diff': ['accuracy'],\n",
    "    'step': [''],\n",
    "    'duration': ['accuracy'],}\n",
    "\n",
    "model.compile(loss=loss, optimizer=optimizer,metrics=metrics)\n",
    "\n",
    "model.summary()"
   ]
  },
  {
   "cell_type": "code",
   "execution_count": 9,
   "id": "6c45251d",
   "metadata": {},
   "outputs": [
    {
     "name": "stdout",
     "output_type": "stream",
     "text": [
      "Epoch 1/30\n",
      "\u001b[1m4358/4358\u001b[0m \u001b[32m━━━━━━━━━━━━━━━━━━━━\u001b[0m\u001b[37m\u001b[0m \u001b[1m35s\u001b[0m 7ms/step - diff_accuracy: 0.5603 - diff_loss: 1.1388 - duration_accuracy: 0.4319 - duration_loss: 1.7416 - intervall_accuracy: 0.1058 - intervall_loss: 2.4856 - loss: 6.6925 - step_accuracy: 0.5807 - step_loss: 1.3266\n",
      "Epoch 2/30\n",
      "\u001b[1m4358/4358\u001b[0m \u001b[32m━━━━━━━━━━━━━━━━━━━━\u001b[0m\u001b[37m\u001b[0m \u001b[1m32s\u001b[0m 7ms/step - diff_accuracy: 0.5819 - diff_loss: 1.0389 - duration_accuracy: 0.4664 - duration_loss: 1.6080 - intervall_accuracy: 0.1566 - intervall_loss: 2.4024 - loss: 6.1895 - step_accuracy: 0.6126 - step_loss: 1.1402\n",
      "Epoch 3/30\n",
      "\u001b[1m4358/4358\u001b[0m \u001b[32m━━━━━━━━━━━━━━━━━━━━\u001b[0m\u001b[37m\u001b[0m \u001b[1m43s\u001b[0m 10ms/step - diff_accuracy: 0.5860 - diff_loss: 1.0209 - duration_accuracy: 0.4707 - duration_loss: 1.5934 - intervall_accuracy: 0.1723 - intervall_loss: 2.3679 - loss: 6.0843 - step_accuracy: 0.6244 - step_loss: 1.1020\n",
      "Epoch 4/30\n",
      "\u001b[1m4358/4358\u001b[0m \u001b[32m━━━━━━━━━━━━━━━━━━━━\u001b[0m\u001b[37m\u001b[0m \u001b[1m32s\u001b[0m 7ms/step - diff_accuracy: 0.5908 - diff_loss: 1.0010 - duration_accuracy: 0.4708 - duration_loss: 1.5771 - intervall_accuracy: 0.1813 - intervall_loss: 2.3420 - loss: 5.9986 - step_accuracy: 0.6296 - step_loss: 1.0786\n",
      "Epoch 5/30\n",
      "\u001b[1m4358/4358\u001b[0m \u001b[32m━━━━━━━━━━━━━━━━━━━━\u001b[0m\u001b[37m\u001b[0m \u001b[1m33s\u001b[0m 8ms/step - diff_accuracy: 0.5962 - diff_loss: 0.9913 - duration_accuracy: 0.4738 - duration_loss: 1.5681 - intervall_accuracy: 0.1905 - intervall_loss: 2.3228 - loss: 5.9340 - step_accuracy: 0.6398 - step_loss: 1.0518\n",
      "Epoch 6/30\n",
      "\u001b[1m4358/4358\u001b[0m \u001b[32m━━━━━━━━━━━━━━━━━━━━\u001b[0m\u001b[37m\u001b[0m \u001b[1m32s\u001b[0m 7ms/step - diff_accuracy: 0.6006 - diff_loss: 0.9813 - duration_accuracy: 0.4744 - duration_loss: 1.5577 - intervall_accuracy: 0.1956 - intervall_loss: 2.3079 - loss: 5.8890 - step_accuracy: 0.6397 - step_loss: 1.0421\n",
      "Epoch 7/30\n",
      "\u001b[1m4358/4358\u001b[0m \u001b[32m━━━━━━━━━━━━━━━━━━━━\u001b[0m\u001b[37m\u001b[0m \u001b[1m58s\u001b[0m 11ms/step - diff_accuracy: 0.6001 - diff_loss: 0.9780 - duration_accuracy: 0.4768 - duration_loss: 1.5601 - intervall_accuracy: 0.2017 - intervall_loss: 2.2960 - loss: 5.8690 - step_accuracy: 0.6444 - step_loss: 1.0349\n",
      "Epoch 8/30\n",
      "\u001b[1m4358/4358\u001b[0m \u001b[32m━━━━━━━━━━━━━━━━━━━━\u001b[0m\u001b[37m\u001b[0m \u001b[1m42s\u001b[0m 10ms/step - diff_accuracy: 0.6036 - diff_loss: 0.9703 - duration_accuracy: 0.4782 - duration_loss: 1.5442 - intervall_accuracy: 0.2052 - intervall_loss: 2.2824 - loss: 5.8229 - step_accuracy: 0.6491 - step_loss: 1.0261\n",
      "Epoch 9/30\n",
      "\u001b[1m4358/4358\u001b[0m \u001b[32m━━━━━━━━━━━━━━━━━━━━\u001b[0m\u001b[37m\u001b[0m \u001b[1m32s\u001b[0m 7ms/step - diff_accuracy: 0.6037 - diff_loss: 0.9677 - duration_accuracy: 0.4777 - duration_loss: 1.5441 - intervall_accuracy: 0.2085 - intervall_loss: 2.2746 - loss: 5.8032 - step_accuracy: 0.6508 - step_loss: 1.0168\n",
      "Epoch 10/30\n",
      "\u001b[1m4358/4358\u001b[0m \u001b[32m━━━━━━━━━━━━━━━━━━━━\u001b[0m\u001b[37m\u001b[0m \u001b[1m33s\u001b[0m 7ms/step - diff_accuracy: 0.6046 - diff_loss: 0.9662 - duration_accuracy: 0.4802 - duration_loss: 1.5406 - intervall_accuracy: 0.2126 - intervall_loss: 2.2682 - loss: 5.7832 - step_accuracy: 0.6538 - step_loss: 1.0082\n",
      "Epoch 11/30\n",
      "\u001b[1m4358/4358\u001b[0m \u001b[32m━━━━━━━━━━━━━━━━━━━━\u001b[0m\u001b[37m\u001b[0m \u001b[1m32s\u001b[0m 7ms/step - diff_accuracy: 0.6045 - diff_loss: 0.9618 - duration_accuracy: 0.4792 - duration_loss: 1.5395 - intervall_accuracy: 0.2145 - intervall_loss: 2.2616 - loss: 5.7678 - step_accuracy: 0.6540 - step_loss: 1.0049\n",
      "Epoch 12/30\n",
      "\u001b[1m4358/4358\u001b[0m \u001b[32m━━━━━━━━━━━━━━━━━━━━\u001b[0m\u001b[37m\u001b[0m \u001b[1m32s\u001b[0m 7ms/step - diff_accuracy: 0.6096 - diff_loss: 0.9522 - duration_accuracy: 0.4825 - duration_loss: 1.5270 - intervall_accuracy: 0.2206 - intervall_loss: 2.2491 - loss: 5.7322 - step_accuracy: 0.6554 - step_loss: 1.0039\n",
      "Epoch 13/30\n",
      "\u001b[1m4358/4358\u001b[0m \u001b[32m━━━━━━━━━━━━━━━━━━━━\u001b[0m\u001b[37m\u001b[0m \u001b[1m33s\u001b[0m 7ms/step - diff_accuracy: 0.6098 - diff_loss: 0.9505 - duration_accuracy: 0.4797 - duration_loss: 1.5377 - intervall_accuracy: 0.2155 - intervall_loss: 2.2499 - loss: 5.7353 - step_accuracy: 0.6573 - step_loss: 0.9972\n",
      "Epoch 14/30\n",
      "\u001b[1m4358/4358\u001b[0m \u001b[32m━━━━━━━━━━━━━━━━━━━━\u001b[0m\u001b[37m\u001b[0m \u001b[1m33s\u001b[0m 7ms/step - diff_accuracy: 0.6099 - diff_loss: 0.9526 - duration_accuracy: 0.4825 - duration_loss: 1.5308 - intervall_accuracy: 0.2210 - intervall_loss: 2.2421 - loss: 5.7195 - step_accuracy: 0.6570 - step_loss: 0.9940\n",
      "Epoch 15/30\n",
      "\u001b[1m4358/4358\u001b[0m \u001b[32m━━━━━━━━━━━━━━━━━━━━\u001b[0m\u001b[37m\u001b[0m \u001b[1m32s\u001b[0m 7ms/step - diff_accuracy: 0.6134 - diff_loss: 0.9468 - duration_accuracy: 0.4817 - duration_loss: 1.5260 - intervall_accuracy: 0.2255 - intervall_loss: 2.2350 - loss: 5.6960 - step_accuracy: 0.6594 - step_loss: 0.9882\n",
      "Epoch 16/30\n",
      "\u001b[1m4358/4358\u001b[0m \u001b[32m━━━━━━━━━━━━━━━━━━━━\u001b[0m\u001b[37m\u001b[0m \u001b[1m34s\u001b[0m 8ms/step - diff_accuracy: 0.6102 - diff_loss: 0.9470 - duration_accuracy: 0.4815 - duration_loss: 1.5271 - intervall_accuracy: 0.2259 - intervall_loss: 2.2342 - loss: 5.6961 - step_accuracy: 0.6600 - step_loss: 0.9878\n",
      "Epoch 17/30\n",
      "\u001b[1m4358/4358\u001b[0m \u001b[32m━━━━━━━━━━━━━━━━━━━━\u001b[0m\u001b[37m\u001b[0m \u001b[1m33s\u001b[0m 8ms/step - diff_accuracy: 0.6142 - diff_loss: 0.9453 - duration_accuracy: 0.4831 - duration_loss: 1.5287 - intervall_accuracy: 0.2271 - intervall_loss: 2.2297 - loss: 5.6891 - step_accuracy: 0.6607 - step_loss: 0.9854\n",
      "Epoch 18/30\n",
      "\u001b[1m4358/4358\u001b[0m \u001b[32m━━━━━━━━━━━━━━━━━━━━\u001b[0m\u001b[37m\u001b[0m \u001b[1m34s\u001b[0m 8ms/step - diff_accuracy: 0.6168 - diff_loss: 0.9396 - duration_accuracy: 0.4843 - duration_loss: 1.5175 - intervall_accuracy: 0.2289 - intervall_loss: 2.2245 - loss: 5.6638 - step_accuracy: 0.6605 - step_loss: 0.9822\n",
      "Epoch 19/30\n",
      "\u001b[1m4358/4358\u001b[0m \u001b[32m━━━━━━━━━━━━━━━━━━━━\u001b[0m\u001b[37m\u001b[0m \u001b[1m39s\u001b[0m 9ms/step - diff_accuracy: 0.6127 - diff_loss: 0.9430 - duration_accuracy: 0.4829 - duration_loss: 1.5251 - intervall_accuracy: 0.2279 - intervall_loss: 2.2255 - loss: 5.6767 - step_accuracy: 0.6624 - step_loss: 0.9831\n",
      "Epoch 20/30\n",
      "\u001b[1m4358/4358\u001b[0m \u001b[32m━━━━━━━━━━━━━━━━━━━━\u001b[0m\u001b[37m\u001b[0m \u001b[1m35s\u001b[0m 8ms/step - diff_accuracy: 0.6138 - diff_loss: 0.9398 - duration_accuracy: 0.4814 - duration_loss: 1.5244 - intervall_accuracy: 0.2308 - intervall_loss: 2.2179 - loss: 5.6645 - step_accuracy: 0.6618 - step_loss: 0.9823\n",
      "Epoch 21/30\n",
      "\u001b[1m4358/4358\u001b[0m \u001b[32m━━━━━━━━━━━━━━━━━━━━\u001b[0m\u001b[37m\u001b[0m \u001b[1m35s\u001b[0m 8ms/step - diff_accuracy: 0.6160 - diff_loss: 0.9380 - duration_accuracy: 0.4809 - duration_loss: 1.5220 - intervall_accuracy: 0.2304 - intervall_loss: 2.2166 - loss: 5.6551 - step_accuracy: 0.6629 - step_loss: 0.9785\n",
      "Epoch 22/30\n",
      "\u001b[1m4358/4358\u001b[0m \u001b[32m━━━━━━━━━━━━━━━━━━━━\u001b[0m\u001b[37m\u001b[0m \u001b[1m36s\u001b[0m 8ms/step - diff_accuracy: 0.6152 - diff_loss: 0.9412 - duration_accuracy: 0.4816 - duration_loss: 1.5167 - intervall_accuracy: 0.2318 - intervall_loss: 2.2143 - loss: 5.6508 - step_accuracy: 0.6636 - step_loss: 0.9785\n",
      "Epoch 23/30\n",
      "\u001b[1m4358/4358\u001b[0m \u001b[32m━━━━━━━━━━━━━━━━━━━━\u001b[0m\u001b[37m\u001b[0m \u001b[1m35s\u001b[0m 8ms/step - diff_accuracy: 0.6134 - diff_loss: 0.9387 - duration_accuracy: 0.4850 - duration_loss: 1.5185 - intervall_accuracy: 0.2339 - intervall_loss: 2.2132 - loss: 5.6433 - step_accuracy: 0.6641 - step_loss: 0.9728\n",
      "Epoch 24/30\n",
      "\u001b[1m4358/4358\u001b[0m \u001b[32m━━━━━━━━━━━━━━━━━━━━\u001b[0m\u001b[37m\u001b[0m \u001b[1m35s\u001b[0m 8ms/step - diff_accuracy: 0.6179 - diff_loss: 0.9379 - duration_accuracy: 0.4846 - duration_loss: 1.5149 - intervall_accuracy: 0.2341 - intervall_loss: 2.2101 - loss: 5.6305 - step_accuracy: 0.6673 - step_loss: 0.9677\n",
      "Epoch 25/30\n",
      "\u001b[1m4358/4358\u001b[0m \u001b[32m━━━━━━━━━━━━━━━━━━━━\u001b[0m\u001b[37m\u001b[0m \u001b[1m38s\u001b[0m 9ms/step - diff_accuracy: 0.6174 - diff_loss: 0.9382 - duration_accuracy: 0.4820 - duration_loss: 1.5162 - intervall_accuracy: 0.2324 - intervall_loss: 2.2129 - loss: 5.6398 - step_accuracy: 0.6655 - step_loss: 0.9723\n",
      "Epoch 26/30\n",
      "\u001b[1m4358/4358\u001b[0m \u001b[32m━━━━━━━━━━━━━━━━━━━━\u001b[0m\u001b[37m\u001b[0m \u001b[1m37s\u001b[0m 8ms/step - diff_accuracy: 0.6183 - diff_loss: 0.9351 - duration_accuracy: 0.4836 - duration_loss: 1.5163 - intervall_accuracy: 0.2353 - intervall_loss: 2.2085 - loss: 5.6318 - step_accuracy: 0.6665 - step_loss: 0.9719\n",
      "Epoch 27/30\n",
      "\u001b[1m4358/4358\u001b[0m \u001b[32m━━━━━━━━━━━━━━━━━━━━\u001b[0m\u001b[37m\u001b[0m \u001b[1m37s\u001b[0m 9ms/step - diff_accuracy: 0.6193 - diff_loss: 0.9297 - duration_accuracy: 0.4821 - duration_loss: 1.5132 - intervall_accuracy: 0.2364 - intervall_loss: 2.2073 - loss: 5.6201 - step_accuracy: 0.6657 - step_loss: 0.9699\n",
      "Epoch 28/30\n",
      "\u001b[1m4358/4358\u001b[0m \u001b[32m━━━━━━━━━━━━━━━━━━━━\u001b[0m\u001b[37m\u001b[0m \u001b[1m41s\u001b[0m 8ms/step - diff_accuracy: 0.6189 - diff_loss: 0.9315 - duration_accuracy: 0.4851 - duration_loss: 1.5115 - intervall_accuracy: 0.2343 - intervall_loss: 2.2063 - loss: 5.6186 - step_accuracy: 0.6648 - step_loss: 0.9693\n",
      "Epoch 29/30\n",
      "\u001b[1m4358/4358\u001b[0m \u001b[32m━━━━━━━━━━━━━━━━━━━━\u001b[0m\u001b[37m\u001b[0m \u001b[1m37s\u001b[0m 9ms/step - diff_accuracy: 0.6207 - diff_loss: 0.9303 - duration_accuracy: 0.4859 - duration_loss: 1.5136 - intervall_accuracy: 0.2369 - intervall_loss: 2.2069 - loss: 5.6147 - step_accuracy: 0.6665 - step_loss: 0.9639\n",
      "Epoch 30/30\n",
      "\u001b[1m4358/4358\u001b[0m \u001b[32m━━━━━━━━━━━━━━━━━━━━\u001b[0m\u001b[37m\u001b[0m \u001b[1m38s\u001b[0m 9ms/step - diff_accuracy: 0.6219 - diff_loss: 0.9294 - duration_accuracy: 0.4852 - duration_loss: 1.5094 - intervall_accuracy: 0.2362 - intervall_loss: 2.2009 - loss: 5.6049 - step_accuracy: 0.6654 - step_loss: 0.9651\n"
     ]
    }
   ],
   "source": [
    "# Compiling and fitting the model\n",
    "epochs = 30\n",
    "diff_encoded = tf.keras.utils.to_categorical(y_train_e['diff'] + 4, num_classes=9)\n",
    "step_encoded =  tf.keras.utils.to_categorical(y_train_e['step'] , num_classes=300)\n",
    "duration_encoded = tf.keras.utils.to_categorical(y_train_e['duration'] , num_classes=300)\n",
    "\n",
    "history = model.fit(\n",
    "    X_train,\n",
    "    {\n",
    "        'intervall':y_train_e['intervall'],\n",
    "        'diff': diff_encoded,\n",
    "        'step':step_encoded,\n",
    "        'duration':duration_encoded\n",
    "     },\n",
    "    epochs=epochs\n",
    ")\n",
    "\n"
   ]
  },
  {
   "cell_type": "code",
   "execution_count": 10,
   "id": "bc57fac0",
   "metadata": {},
   "outputs": [],
   "source": [
    "model.save('./models/intervall-model-CLassic.keras')"
   ]
  }
 ],
 "metadata": {
  "kernelspec": {
   "display_name": "base",
   "language": "python",
   "name": "python3"
  },
  "language_info": {
   "codemirror_mode": {
    "name": "ipython",
    "version": 3
   },
   "file_extension": ".py",
   "mimetype": "text/x-python",
   "name": "python",
   "nbconvert_exporter": "python",
   "pygments_lexer": "ipython3",
   "version": "3.12.7"
  }
 },
 "nbformat": 4,
 "nbformat_minor": 5
}
